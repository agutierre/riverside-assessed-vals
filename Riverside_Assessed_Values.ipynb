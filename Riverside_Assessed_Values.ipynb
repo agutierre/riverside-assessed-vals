{
 "cells": [
  {
   "cell_type": "markdown",
   "id": "55b314d9-9d0c-45f5-aac3-1e1d8abc6631",
   "metadata": {
    "id": "55b314d9-9d0c-45f5-aac3-1e1d8abc6631"
   },
   "source": [
    "# County of Riverside: Assessed Property Values"
   ]
  },
  {
   "cell_type": "code",
   "execution_count": 1,
   "id": "88af6d91-8c58-4928-9ee5-aaa780b81f1f",
   "metadata": {
    "colab": {
     "base_uri": "https://localhost:8080/"
    },
    "executionInfo": {
     "elapsed": 5284,
     "status": "ok",
     "timestamp": 1660775088702,
     "user": {
      "displayName": "Angel Gutierrez",
      "userId": "07929619807674696750"
     },
     "user_tz": 420
    },
    "id": "88af6d91-8c58-4928-9ee5-aaa780b81f1f",
    "outputId": "985c86ed-9169-4d45-e89f-40d5af10b2e8"
   },
   "outputs": [],
   "source": [
    "import pandas as pd\n",
    "import numpy as np\n",
    "import re\n",
    "import seaborn as sns\n",
    "import matplotlib\n",
    "import matplotlib.pyplot as plt\n",
    "from matplotlib.ticker import StrMethodFormatter\n",
    "import squarify \n",
    "\n",
    "%matplotlib inline\n",
    "sns.set_theme(style='darkgrid')\n",
    "pd.set_option('display.max_rows', None)\n",
    "pd.set_option('display.float_format', lambda x: '%.2f' % x)"
   ]
  },
  {
   "cell_type": "markdown",
   "id": "a7ea8286-4832-4861-9d2b-3030e652c5c7",
   "metadata": {},
   "source": [
    "## Objective"
   ]
  },
  {
   "cell_type": "markdown",
   "id": "fd428481-f637-42c3-8c5c-9cfdd26356e9",
   "metadata": {},
   "source": [
    "To better understand the valuations and composition of the different property types under assessment subject to taxation as per the California Revenue & Taxation Code. As an public servant working in the County of Riverside Auditor-Controller's Office, these values are provided by the County Assesseor and subsequently used in the calculation of taxes. As these values are a vital component of the tax calculation process, a fundamental understanding of the assessment/roll types will be greatly beneficial. "
   ]
  },
  {
   "cell_type": "markdown",
   "id": "e1262d97-61d1-4046-93c6-573eb8a44456",
   "metadata": {
    "id": "e1262d97-61d1-4046-93c6-573eb8a44456"
   },
   "source": [
    "## About the Dataset\n",
    "This dataset consists of tax-roll values by Tax Authority Group (TAG) and is made publicly available in Excel format by the County of Riverside Auditor-Controller's Office on their [portal](https://ca-riverside-aco.publicaccessnow.com/PropertyTaxInformation/AssessedValues/FiscalYear22-23.aspx)."
   ]
  },
  {
   "cell_type": "markdown",
   "id": "18bf6d98-2630-4c8d-82d9-5fabde2c5968",
   "metadata": {
    "id": "18bf6d98-2630-4c8d-82d9-5fabde2c5968"
   },
   "source": [
    "## Importing the Dataset\n",
    "The raw data will be found in the second sheet of the excel file, the first 6 rows comprise a header and the last 29 rows comprise a summary section. These will be omitted from the data import:"
   ]
  },
  {
   "cell_type": "code",
   "execution_count": 2,
   "id": "56168005-c9c2-4b4d-bee1-d709847216ce",
   "metadata": {
    "executionInfo": {
     "elapsed": 21983,
     "status": "ok",
     "timestamp": 1660775112915,
     "user": {
      "displayName": "Angel Gutierrez",
      "userId": "07929619807674696750"
     },
     "user_tz": 420
    },
    "id": "56168005-c9c2-4b4d-bee1-d709847216ce"
   },
   "outputs": [
    {
     "data": {
      "text/html": [
       "<div>\n",
       "<style scoped>\n",
       "    .dataframe tbody tr th:only-of-type {\n",
       "        vertical-align: middle;\n",
       "    }\n",
       "\n",
       "    .dataframe tbody tr th {\n",
       "        vertical-align: top;\n",
       "    }\n",
       "\n",
       "    .dataframe thead th {\n",
       "        text-align: right;\n",
       "    }\n",
       "</style>\n",
       "<table border=\"1\" class=\"dataframe\">\n",
       "  <thead>\n",
       "    <tr style=\"text-align: right;\">\n",
       "      <th></th>\n",
       "      <th>Unnamed: 0</th>\n",
       "      <th>Unnamed: 1</th>\n",
       "      <th>Unnamed: 2</th>\n",
       "      <th>Unnamed: 3</th>\n",
       "      <th>Unnamed: 4</th>\n",
       "      <th>Unnamed: 5</th>\n",
       "      <th>Unnamed: 6</th>\n",
       "      <th>Unnamed: 7</th>\n",
       "      <th>Unnamed: 8</th>\n",
       "      <th>Unnamed: 9</th>\n",
       "      <th>Unnamed: 10</th>\n",
       "      <th>Unnamed: 11</th>\n",
       "      <th>Unnamed: 12</th>\n",
       "      <th>Unnamed: 13</th>\n",
       "    </tr>\n",
       "  </thead>\n",
       "  <tbody>\n",
       "    <tr>\n",
       "      <th>0</th>\n",
       "      <td>TAG:</td>\n",
       "      <td>001-000 BANNING                               ...</td>\n",
       "      <td>NaN</td>\n",
       "      <td>NaN</td>\n",
       "      <td>NaN</td>\n",
       "      <td>NaN</td>\n",
       "      <td>NaN</td>\n",
       "      <td>NaN</td>\n",
       "      <td>NaN</td>\n",
       "      <td>NaN</td>\n",
       "      <td>NaN</td>\n",
       "      <td>NaN</td>\n",
       "      <td>NaN</td>\n",
       "      <td>NaN</td>\n",
       "    </tr>\n",
       "    <tr>\n",
       "      <th>1</th>\n",
       "      <td>Value Type</td>\n",
       "      <td>Secured Roll</td>\n",
       "      <td>SBE Roll</td>\n",
       "      <td>NaN</td>\n",
       "      <td>NaN</td>\n",
       "      <td>NaN</td>\n",
       "      <td>Combined Secured\\n&amp; SBE</td>\n",
       "      <td>Unsecured Roll\\nNo Aircraft</td>\n",
       "      <td>Unsecured Roll\\nAircraft Only</td>\n",
       "      <td>NaN</td>\n",
       "      <td>NaN</td>\n",
       "      <td>Total Roll No Aircraft</td>\n",
       "      <td>NaN</td>\n",
       "      <td>Total All Rolls</td>\n",
       "    </tr>\n",
       "    <tr>\n",
       "      <th>2</th>\n",
       "      <td>LAND</td>\n",
       "      <td>186579208</td>\n",
       "      <td>0</td>\n",
       "      <td>NaN</td>\n",
       "      <td>NaN</td>\n",
       "      <td>NaN</td>\n",
       "      <td>186579208</td>\n",
       "      <td>0</td>\n",
       "      <td>0</td>\n",
       "      <td>NaN</td>\n",
       "      <td>NaN</td>\n",
       "      <td>186579208</td>\n",
       "      <td>NaN</td>\n",
       "      <td>186579208</td>\n",
       "    </tr>\n",
       "    <tr>\n",
       "      <th>3</th>\n",
       "      <td>STRUCTURES</td>\n",
       "      <td>630631934</td>\n",
       "      <td>0</td>\n",
       "      <td>NaN</td>\n",
       "      <td>NaN</td>\n",
       "      <td>NaN</td>\n",
       "      <td>630631934</td>\n",
       "      <td>0</td>\n",
       "      <td>0</td>\n",
       "      <td>NaN</td>\n",
       "      <td>NaN</td>\n",
       "      <td>630631934</td>\n",
       "      <td>NaN</td>\n",
       "      <td>630631934</td>\n",
       "    </tr>\n",
       "    <tr>\n",
       "      <th>4</th>\n",
       "      <td>FIXTURES</td>\n",
       "      <td>2614157</td>\n",
       "      <td>0</td>\n",
       "      <td>NaN</td>\n",
       "      <td>NaN</td>\n",
       "      <td>NaN</td>\n",
       "      <td>2614157</td>\n",
       "      <td>2279523</td>\n",
       "      <td>0</td>\n",
       "      <td>NaN</td>\n",
       "      <td>NaN</td>\n",
       "      <td>4893680</td>\n",
       "      <td>NaN</td>\n",
       "      <td>4893680</td>\n",
       "    </tr>\n",
       "    <tr>\n",
       "      <th>5</th>\n",
       "      <td>PERSONAL PROPERTY</td>\n",
       "      <td>2370527</td>\n",
       "      <td>0</td>\n",
       "      <td>NaN</td>\n",
       "      <td>NaN</td>\n",
       "      <td>NaN</td>\n",
       "      <td>2370527</td>\n",
       "      <td>4653271</td>\n",
       "      <td>0</td>\n",
       "      <td>NaN</td>\n",
       "      <td>NaN</td>\n",
       "      <td>7023798</td>\n",
       "      <td>NaN</td>\n",
       "      <td>7023798</td>\n",
       "    </tr>\n",
       "    <tr>\n",
       "      <th>6</th>\n",
       "      <td>PENALTY</td>\n",
       "      <td>0</td>\n",
       "      <td>0</td>\n",
       "      <td>NaN</td>\n",
       "      <td>NaN</td>\n",
       "      <td>NaN</td>\n",
       "      <td>0</td>\n",
       "      <td>1270</td>\n",
       "      <td>0</td>\n",
       "      <td>NaN</td>\n",
       "      <td>NaN</td>\n",
       "      <td>1270</td>\n",
       "      <td>NaN</td>\n",
       "      <td>1270</td>\n",
       "    </tr>\n",
       "    <tr>\n",
       "      <th>7</th>\n",
       "      <td>GROSS VALUE</td>\n",
       "      <td>822195826</td>\n",
       "      <td>0</td>\n",
       "      <td>NaN</td>\n",
       "      <td>NaN</td>\n",
       "      <td>NaN</td>\n",
       "      <td>822195826</td>\n",
       "      <td>6934064</td>\n",
       "      <td>0</td>\n",
       "      <td>NaN</td>\n",
       "      <td>NaN</td>\n",
       "      <td>829129890</td>\n",
       "      <td>NaN</td>\n",
       "      <td>829129890</td>\n",
       "    </tr>\n",
       "    <tr>\n",
       "      <th>8</th>\n",
       "      <td>-EXEMPTIONS</td>\n",
       "      <td>33988793</td>\n",
       "      <td>0</td>\n",
       "      <td>NaN</td>\n",
       "      <td>NaN</td>\n",
       "      <td>NaN</td>\n",
       "      <td>33988793</td>\n",
       "      <td>26464</td>\n",
       "      <td>0</td>\n",
       "      <td>NaN</td>\n",
       "      <td>NaN</td>\n",
       "      <td>34015257</td>\n",
       "      <td>NaN</td>\n",
       "      <td>34015257</td>\n",
       "    </tr>\n",
       "    <tr>\n",
       "      <th>9</th>\n",
       "      <td>TAXABLE NET</td>\n",
       "      <td>788207033</td>\n",
       "      <td>0</td>\n",
       "      <td>NaN</td>\n",
       "      <td>NaN</td>\n",
       "      <td>NaN</td>\n",
       "      <td>788207033</td>\n",
       "      <td>6907600</td>\n",
       "      <td>0</td>\n",
       "      <td>NaN</td>\n",
       "      <td>NaN</td>\n",
       "      <td>795114633</td>\n",
       "      <td>NaN</td>\n",
       "      <td>795114633</td>\n",
       "    </tr>\n",
       "    <tr>\n",
       "      <th>10</th>\n",
       "      <td>+ HO EXEM</td>\n",
       "      <td>11719400</td>\n",
       "      <td>0</td>\n",
       "      <td>NaN</td>\n",
       "      <td>NaN</td>\n",
       "      <td>NaN</td>\n",
       "      <td>11719400</td>\n",
       "      <td>0</td>\n",
       "      <td>0</td>\n",
       "      <td>NaN</td>\n",
       "      <td>NaN</td>\n",
       "      <td>11719400</td>\n",
       "      <td>NaN</td>\n",
       "      <td>11719400</td>\n",
       "    </tr>\n",
       "    <tr>\n",
       "      <th>11</th>\n",
       "      <td>ADJUSTED NET</td>\n",
       "      <td>799926433</td>\n",
       "      <td>0</td>\n",
       "      <td>NaN</td>\n",
       "      <td>NaN</td>\n",
       "      <td>NaN</td>\n",
       "      <td>799926433</td>\n",
       "      <td>6907600</td>\n",
       "      <td>0</td>\n",
       "      <td>NaN</td>\n",
       "      <td>NaN</td>\n",
       "      <td>806834033</td>\n",
       "      <td>NaN</td>\n",
       "      <td>806834033</td>\n",
       "    </tr>\n",
       "    <tr>\n",
       "      <th>12</th>\n",
       "      <td>PIN COUNT</td>\n",
       "      <td>NaN</td>\n",
       "      <td>NaN</td>\n",
       "      <td>NaN</td>\n",
       "      <td>NaN</td>\n",
       "      <td>NaN</td>\n",
       "      <td>NaN</td>\n",
       "      <td>NaN</td>\n",
       "      <td>NaN</td>\n",
       "      <td>NaN</td>\n",
       "      <td>NaN</td>\n",
       "      <td>NaN</td>\n",
       "      <td>NaN</td>\n",
       "      <td>5001</td>\n",
       "    </tr>\n",
       "    <tr>\n",
       "      <th>13</th>\n",
       "      <td>NaN</td>\n",
       "      <td>NaN</td>\n",
       "      <td>NaN</td>\n",
       "      <td>NaN</td>\n",
       "      <td>NaN</td>\n",
       "      <td>NaN</td>\n",
       "      <td>NaN</td>\n",
       "      <td>NaN</td>\n",
       "      <td>NaN</td>\n",
       "      <td>NaN</td>\n",
       "      <td>NaN</td>\n",
       "      <td>NaN</td>\n",
       "      <td>NaN</td>\n",
       "      <td>NaN</td>\n",
       "    </tr>\n",
       "    <tr>\n",
       "      <th>14</th>\n",
       "      <td>TAG:</td>\n",
       "      <td>001-001 BANNING                               ...</td>\n",
       "      <td>NaN</td>\n",
       "      <td>NaN</td>\n",
       "      <td>NaN</td>\n",
       "      <td>NaN</td>\n",
       "      <td>NaN</td>\n",
       "      <td>NaN</td>\n",
       "      <td>NaN</td>\n",
       "      <td>NaN</td>\n",
       "      <td>NaN</td>\n",
       "      <td>NaN</td>\n",
       "      <td>NaN</td>\n",
       "      <td>NaN</td>\n",
       "    </tr>\n",
       "    <tr>\n",
       "      <th>15</th>\n",
       "      <td>Value Type</td>\n",
       "      <td>Secured Roll</td>\n",
       "      <td>SBE Roll</td>\n",
       "      <td>NaN</td>\n",
       "      <td>NaN</td>\n",
       "      <td>NaN</td>\n",
       "      <td>Combined Secured\\n&amp; SBE</td>\n",
       "      <td>Unsecured Roll\\nNo Aircraft</td>\n",
       "      <td>Unsecured Roll\\nAircraft Only</td>\n",
       "      <td>NaN</td>\n",
       "      <td>NaN</td>\n",
       "      <td>Total Roll No Aircraft</td>\n",
       "      <td>NaN</td>\n",
       "      <td>Total All Rolls</td>\n",
       "    </tr>\n",
       "    <tr>\n",
       "      <th>16</th>\n",
       "      <td>LAND</td>\n",
       "      <td>40118691</td>\n",
       "      <td>0</td>\n",
       "      <td>NaN</td>\n",
       "      <td>NaN</td>\n",
       "      <td>NaN</td>\n",
       "      <td>40118691</td>\n",
       "      <td>0</td>\n",
       "      <td>0</td>\n",
       "      <td>NaN</td>\n",
       "      <td>NaN</td>\n",
       "      <td>40118691</td>\n",
       "      <td>NaN</td>\n",
       "      <td>40118691</td>\n",
       "    </tr>\n",
       "    <tr>\n",
       "      <th>17</th>\n",
       "      <td>STRUCTURES</td>\n",
       "      <td>140432478</td>\n",
       "      <td>0</td>\n",
       "      <td>NaN</td>\n",
       "      <td>NaN</td>\n",
       "      <td>NaN</td>\n",
       "      <td>140432478</td>\n",
       "      <td>51</td>\n",
       "      <td>0</td>\n",
       "      <td>NaN</td>\n",
       "      <td>NaN</td>\n",
       "      <td>140432529</td>\n",
       "      <td>NaN</td>\n",
       "      <td>140432529</td>\n",
       "    </tr>\n",
       "    <tr>\n",
       "      <th>18</th>\n",
       "      <td>FIXTURES</td>\n",
       "      <td>712</td>\n",
       "      <td>0</td>\n",
       "      <td>NaN</td>\n",
       "      <td>NaN</td>\n",
       "      <td>NaN</td>\n",
       "      <td>712</td>\n",
       "      <td>264269</td>\n",
       "      <td>0</td>\n",
       "      <td>NaN</td>\n",
       "      <td>NaN</td>\n",
       "      <td>264981</td>\n",
       "      <td>NaN</td>\n",
       "      <td>264981</td>\n",
       "    </tr>\n",
       "    <tr>\n",
       "      <th>19</th>\n",
       "      <td>PERSONAL PROPERTY</td>\n",
       "      <td>17608</td>\n",
       "      <td>0</td>\n",
       "      <td>NaN</td>\n",
       "      <td>NaN</td>\n",
       "      <td>NaN</td>\n",
       "      <td>17608</td>\n",
       "      <td>955601</td>\n",
       "      <td>0</td>\n",
       "      <td>NaN</td>\n",
       "      <td>NaN</td>\n",
       "      <td>973209</td>\n",
       "      <td>NaN</td>\n",
       "      <td>973209</td>\n",
       "    </tr>\n",
       "  </tbody>\n",
       "</table>\n",
       "</div>"
      ],
      "text/plain": [
       "           Unnamed: 0                                         Unnamed: 1  \\\n",
       "0               TAG:   001-000 BANNING                               ...   \n",
       "1          Value Type                                       Secured Roll   \n",
       "2                LAND                                          186579208   \n",
       "3          STRUCTURES                                          630631934   \n",
       "4            FIXTURES                                            2614157   \n",
       "5   PERSONAL PROPERTY                                            2370527   \n",
       "6             PENALTY                                                  0   \n",
       "7         GROSS VALUE                                          822195826   \n",
       "8         -EXEMPTIONS                                           33988793   \n",
       "9         TAXABLE NET                                          788207033   \n",
       "10          + HO EXEM                                           11719400   \n",
       "11       ADJUSTED NET                                          799926433   \n",
       "12          PIN COUNT                                                NaN   \n",
       "13                NaN                                                NaN   \n",
       "14              TAG:   001-001 BANNING                               ...   \n",
       "15         Value Type                                       Secured Roll   \n",
       "16               LAND                                           40118691   \n",
       "17         STRUCTURES                                          140432478   \n",
       "18           FIXTURES                                                712   \n",
       "19  PERSONAL PROPERTY                                              17608   \n",
       "\n",
       "   Unnamed: 2  Unnamed: 3  Unnamed: 4  Unnamed: 5               Unnamed: 6  \\\n",
       "0         NaN         NaN         NaN         NaN                      NaN   \n",
       "1    SBE Roll         NaN         NaN         NaN  Combined Secured\\n& SBE   \n",
       "2           0         NaN         NaN         NaN                186579208   \n",
       "3           0         NaN         NaN         NaN                630631934   \n",
       "4           0         NaN         NaN         NaN                  2614157   \n",
       "5           0         NaN         NaN         NaN                  2370527   \n",
       "6           0         NaN         NaN         NaN                        0   \n",
       "7           0         NaN         NaN         NaN                822195826   \n",
       "8           0         NaN         NaN         NaN                 33988793   \n",
       "9           0         NaN         NaN         NaN                788207033   \n",
       "10          0         NaN         NaN         NaN                 11719400   \n",
       "11          0         NaN         NaN         NaN                799926433   \n",
       "12        NaN         NaN         NaN         NaN                      NaN   \n",
       "13        NaN         NaN         NaN         NaN                      NaN   \n",
       "14        NaN         NaN         NaN         NaN                      NaN   \n",
       "15   SBE Roll         NaN         NaN         NaN  Combined Secured\\n& SBE   \n",
       "16          0         NaN         NaN         NaN                 40118691   \n",
       "17          0         NaN         NaN         NaN                140432478   \n",
       "18          0         NaN         NaN         NaN                      712   \n",
       "19          0         NaN         NaN         NaN                    17608   \n",
       "\n",
       "                     Unnamed: 7                     Unnamed: 8  Unnamed: 9  \\\n",
       "0                           NaN                            NaN         NaN   \n",
       "1   Unsecured Roll\\nNo Aircraft  Unsecured Roll\\nAircraft Only         NaN   \n",
       "2                             0                              0         NaN   \n",
       "3                             0                              0         NaN   \n",
       "4                       2279523                              0         NaN   \n",
       "5                       4653271                              0         NaN   \n",
       "6                          1270                              0         NaN   \n",
       "7                       6934064                              0         NaN   \n",
       "8                         26464                              0         NaN   \n",
       "9                       6907600                              0         NaN   \n",
       "10                            0                              0         NaN   \n",
       "11                      6907600                              0         NaN   \n",
       "12                          NaN                            NaN         NaN   \n",
       "13                          NaN                            NaN         NaN   \n",
       "14                          NaN                            NaN         NaN   \n",
       "15  Unsecured Roll\\nNo Aircraft  Unsecured Roll\\nAircraft Only         NaN   \n",
       "16                            0                              0         NaN   \n",
       "17                           51                              0         NaN   \n",
       "18                       264269                              0         NaN   \n",
       "19                       955601                              0         NaN   \n",
       "\n",
       "    Unnamed: 10             Unnamed: 11  Unnamed: 12      Unnamed: 13  \n",
       "0           NaN                     NaN          NaN              NaN  \n",
       "1           NaN  Total Roll No Aircraft          NaN  Total All Rolls  \n",
       "2           NaN               186579208          NaN        186579208  \n",
       "3           NaN               630631934          NaN        630631934  \n",
       "4           NaN                 4893680          NaN          4893680  \n",
       "5           NaN                 7023798          NaN          7023798  \n",
       "6           NaN                    1270          NaN             1270  \n",
       "7           NaN               829129890          NaN        829129890  \n",
       "8           NaN                34015257          NaN         34015257  \n",
       "9           NaN               795114633          NaN        795114633  \n",
       "10          NaN                11719400          NaN         11719400  \n",
       "11          NaN               806834033          NaN        806834033  \n",
       "12          NaN                     NaN          NaN             5001  \n",
       "13          NaN                     NaN          NaN              NaN  \n",
       "14          NaN                     NaN          NaN              NaN  \n",
       "15          NaN  Total Roll No Aircraft          NaN  Total All Rolls  \n",
       "16          NaN                40118691          NaN         40118691  \n",
       "17          NaN               140432529          NaN        140432529  \n",
       "18          NaN                  264981          NaN           264981  \n",
       "19          NaN                  973209          NaN           973209  "
      ]
     },
     "execution_count": 2,
     "metadata": {},
     "output_type": "execute_result"
    }
   ],
   "source": [
    "# Import data from sheet 2, skip first 6 rows, last 29 rows \n",
    "df_raw = pd.read_excel('FY 22-23 Preliminary Roll Valuation.xlsx', sheet_name=1, skiprows=5, skipfooter = 29)\n",
    "# preview\n",
    "df_raw.head(20)"
   ]
  },
  {
   "cell_type": "markdown",
   "id": "8c4fad73-5c3f-4fbe-bfa8-420aceee2fe0",
   "metadata": {},
   "source": [
    "As seen above, the data consists of multiple sub-tables for each Tax Authority Group (TAG): See lines 0 and 14 are the headers for the TAG group and the subsequent lines are the data for that TAG. This layout, while simple to follow when viewing file in Excel or other spreadsheet software, makes it difficult to analyze the dataset as a whole (imagine filtering/subtotaling by TAG value  and any given attributes etc) and as such, this data needs to be synthesized into a more cohesive table to better prepare for analysis."
   ]
  },
  {
   "cell_type": "markdown",
   "id": "5c0705e0-ff84-45fd-acfc-3f92e2af78cc",
   "metadata": {},
   "source": [
    "## Data Cleaning & Transformation"
   ]
  },
  {
   "cell_type": "code",
   "execution_count": 3,
   "id": "5206db37-df37-4919-aaef-59295a363de6",
   "metadata": {
    "colab": {
     "base_uri": "https://localhost:8080/"
    },
    "executionInfo": {
     "elapsed": 16,
     "status": "ok",
     "timestamp": 1660775112917,
     "user": {
      "displayName": "Angel Gutierrez",
      "userId": "07929619807674696750"
     },
     "user_tz": 420
    },
    "id": "5206db37-df37-4919-aaef-59295a363de6",
    "outputId": "91e9f7e5-3049-4418-f5db-1a493ec61b5a"
   },
   "outputs": [
    {
     "name": "stdout",
     "output_type": "stream",
     "text": [
      "<class 'pandas.core.frame.DataFrame'>\n",
      "RangeIndex: 39029 entries, 0 to 39028\n",
      "Data columns (total 14 columns):\n",
      " #   Column       Non-Null Count  Dtype  \n",
      "---  ------       --------------  -----  \n",
      " 0   Unnamed: 0   35589 non-null  object \n",
      " 1   Unnamed: 1   32149 non-null  object \n",
      " 2   Unnamed: 2   28709 non-null  object \n",
      " 3   Unnamed: 3   0 non-null      float64\n",
      " 4   Unnamed: 4   0 non-null      float64\n",
      " 5   Unnamed: 5   0 non-null      float64\n",
      " 6   Unnamed: 6   28709 non-null  object \n",
      " 7   Unnamed: 7   28709 non-null  object \n",
      " 8   Unnamed: 8   28709 non-null  object \n",
      " 9   Unnamed: 9   0 non-null      float64\n",
      " 10  Unnamed: 10  0 non-null      float64\n",
      " 11  Unnamed: 11  28709 non-null  object \n",
      " 12  Unnamed: 12  0 non-null      float64\n",
      " 13  Unnamed: 13  32149 non-null  object \n",
      "dtypes: float64(6), object(8)\n",
      "memory usage: 4.2+ MB\n"
     ]
    }
   ],
   "source": [
    "# Check df info to identify any other potential problem areas\n",
    "df_raw.info()"
   ]
  },
  {
   "cell_type": "markdown",
   "id": "f01fa001-9e74-4d07-a52d-9d6a72cbe3a0",
   "metadata": {
    "id": "f01fa001-9e74-4d07-a52d-9d6a72cbe3a0"
   },
   "source": [
    "Looking at the dataframe info, due to the file being provided in excel format and presumably being designed to be printable/human-legible, there are alot of empty columns and rows. For example: Columns 3-5, 9-10, and 12 are entirely null values. These unecessary rows and columns will be dropped."
   ]
  },
  {
   "cell_type": "code",
   "execution_count": 4,
   "id": "6e4ac274-1209-40e0-badc-daf5896d7134",
   "metadata": {
    "executionInfo": {
     "elapsed": 541,
     "status": "ok",
     "timestamp": 1660775113445,
     "user": {
      "displayName": "Angel Gutierrez",
      "userId": "07929619807674696750"
     },
     "user_tz": 420
    },
    "id": "6e4ac274-1209-40e0-badc-daf5896d7134"
   },
   "outputs": [],
   "source": [
    "df_raw = df_raw.loc[:,df_raw.notna().any(axis=0)] # drop columns comprised entirely of null values\n",
    "df_raw = df_raw.dropna(axis = 0, how = 'all') # also drop rows comprised entirely of null values"
   ]
  },
  {
   "cell_type": "markdown",
   "id": "7b5dbd51-0dc3-42a4-bf01-dbd7f6a9dc13",
   "metadata": {
    "id": "7b5dbd51-0dc3-42a4-bf01-dbd7f6a9dc13"
   },
   "source": [
    "Next, add column names using one of the header rows as a reference:"
   ]
  },
  {
   "cell_type": "code",
   "execution_count": 5,
   "id": "ee8fa184-259b-4440-b6b5-9dfe69eef821",
   "metadata": {
    "colab": {
     "base_uri": "https://localhost:8080/"
    },
    "executionInfo": {
     "elapsed": 29,
     "status": "ok",
     "timestamp": 1660775113449,
     "user": {
      "displayName": "Angel Gutierrez",
      "userId": "07929619807674696750"
     },
     "user_tz": 420
    },
    "id": "ee8fa184-259b-4440-b6b5-9dfe69eef821",
    "outputId": "011277b6-8736-4e09-b784-8ad10eb7fcba"
   },
   "outputs": [
    {
     "data": {
      "text/plain": [
       "['Value Type',\n",
       " 'Secured Roll',\n",
       " 'SBE Roll',\n",
       " 'Combined Secured\\n& SBE',\n",
       " 'Unsecured Roll\\nNo Aircraft',\n",
       " 'Unsecured Roll\\nAircraft Only',\n",
       " 'Total Roll No Aircraft',\n",
       " 'Total All Rolls']"
      ]
     },
     "execution_count": 5,
     "metadata": {},
     "output_type": "execute_result"
    }
   ],
   "source": [
    "col_names = df_raw.loc[1].tolist()\n",
    "col_names"
   ]
  },
  {
   "cell_type": "code",
   "execution_count": 6,
   "id": "eb29e384-1404-4e70-99af-9969a27dc770",
   "metadata": {
    "colab": {
     "base_uri": "https://localhost:8080/"
    },
    "executionInfo": {
     "elapsed": 26,
     "status": "ok",
     "timestamp": 1660775113450,
     "user": {
      "displayName": "Angel Gutierrez",
      "userId": "07929619807674696750"
     },
     "user_tz": 420
    },
    "id": "eb29e384-1404-4e70-99af-9969a27dc770",
    "outputId": "532402c3-078d-4272-86fd-51e3d5f93ed0"
   },
   "outputs": [
    {
     "data": {
      "text/plain": [
       "['ValueType',\n",
       " 'SecuredRoll',\n",
       " 'SBERoll',\n",
       " 'CombinedSecured&SBE',\n",
       " 'UnsecuredRollNoAircraft',\n",
       " 'UnsecuredRollAircraftOnly',\n",
       " 'TotalRollNoAircraft',\n",
       " 'TotalAllRolls']"
      ]
     },
     "execution_count": 6,
     "metadata": {},
     "output_type": "execute_result"
    }
   ],
   "source": [
    "# Clean column names by removing spaces and line separators\n",
    "colnames_cleaned = []\n",
    "for i in col_names:\n",
    "    name = i.replace(' ','').replace('\\n','')\n",
    "    colnames_cleaned.append(name)\n",
    "colnames_cleaned"
   ]
  },
  {
   "cell_type": "markdown",
   "id": "5D5m2CY4H9uY",
   "metadata": {
    "id": "5D5m2CY4H9uY"
   },
   "source": [
    "The cleaned up column names will be assigned back to the dataframe. Additionally, all subsequent \"header\" rows in the dataset will be removed."
   ]
  },
  {
   "cell_type": "code",
   "execution_count": 7,
   "id": "1898baf0-57a7-4417-87cc-45761ce7b9c2",
   "metadata": {
    "colab": {
     "base_uri": "https://localhost:8080/",
     "height": 206
    },
    "executionInfo": {
     "elapsed": 24,
     "status": "ok",
     "timestamp": 1660775113451,
     "user": {
      "displayName": "Angel Gutierrez",
      "userId": "07929619807674696750"
     },
     "user_tz": 420
    },
    "id": "1898baf0-57a7-4417-87cc-45761ce7b9c2",
    "outputId": "b869c21e-f28f-4020-9207-8dc264719121"
   },
   "outputs": [
    {
     "data": {
      "text/html": [
       "<div>\n",
       "<style scoped>\n",
       "    .dataframe tbody tr th:only-of-type {\n",
       "        vertical-align: middle;\n",
       "    }\n",
       "\n",
       "    .dataframe tbody tr th {\n",
       "        vertical-align: top;\n",
       "    }\n",
       "\n",
       "    .dataframe thead th {\n",
       "        text-align: right;\n",
       "    }\n",
       "</style>\n",
       "<table border=\"1\" class=\"dataframe\">\n",
       "  <thead>\n",
       "    <tr style=\"text-align: right;\">\n",
       "      <th></th>\n",
       "      <th>ValueType</th>\n",
       "      <th>SecuredRoll</th>\n",
       "      <th>SBERoll</th>\n",
       "      <th>CombinedSecured&amp;SBE</th>\n",
       "      <th>UnsecuredRollNoAircraft</th>\n",
       "      <th>UnsecuredRollAircraftOnly</th>\n",
       "      <th>TotalRollNoAircraft</th>\n",
       "      <th>TotalAllRolls</th>\n",
       "    </tr>\n",
       "  </thead>\n",
       "  <tbody>\n",
       "    <tr>\n",
       "      <th>0</th>\n",
       "      <td>TAG:</td>\n",
       "      <td>001-000 BANNING                               ...</td>\n",
       "      <td>NaN</td>\n",
       "      <td>NaN</td>\n",
       "      <td>NaN</td>\n",
       "      <td>NaN</td>\n",
       "      <td>NaN</td>\n",
       "      <td>NaN</td>\n",
       "    </tr>\n",
       "    <tr>\n",
       "      <th>2</th>\n",
       "      <td>LAND</td>\n",
       "      <td>186579208</td>\n",
       "      <td>0</td>\n",
       "      <td>186579208</td>\n",
       "      <td>0</td>\n",
       "      <td>0</td>\n",
       "      <td>186579208</td>\n",
       "      <td>186579208</td>\n",
       "    </tr>\n",
       "    <tr>\n",
       "      <th>3</th>\n",
       "      <td>STRUCTURES</td>\n",
       "      <td>630631934</td>\n",
       "      <td>0</td>\n",
       "      <td>630631934</td>\n",
       "      <td>0</td>\n",
       "      <td>0</td>\n",
       "      <td>630631934</td>\n",
       "      <td>630631934</td>\n",
       "    </tr>\n",
       "    <tr>\n",
       "      <th>4</th>\n",
       "      <td>FIXTURES</td>\n",
       "      <td>2614157</td>\n",
       "      <td>0</td>\n",
       "      <td>2614157</td>\n",
       "      <td>2279523</td>\n",
       "      <td>0</td>\n",
       "      <td>4893680</td>\n",
       "      <td>4893680</td>\n",
       "    </tr>\n",
       "    <tr>\n",
       "      <th>5</th>\n",
       "      <td>PERSONAL PROPERTY</td>\n",
       "      <td>2370527</td>\n",
       "      <td>0</td>\n",
       "      <td>2370527</td>\n",
       "      <td>4653271</td>\n",
       "      <td>0</td>\n",
       "      <td>7023798</td>\n",
       "      <td>7023798</td>\n",
       "    </tr>\n",
       "  </tbody>\n",
       "</table>\n",
       "</div>"
      ],
      "text/plain": [
       "           ValueType                                        SecuredRoll  \\\n",
       "0              TAG:   001-000 BANNING                               ...   \n",
       "2               LAND                                          186579208   \n",
       "3         STRUCTURES                                          630631934   \n",
       "4           FIXTURES                                            2614157   \n",
       "5  PERSONAL PROPERTY                                            2370527   \n",
       "\n",
       "  SBERoll CombinedSecured&SBE UnsecuredRollNoAircraft  \\\n",
       "0     NaN                 NaN                     NaN   \n",
       "2       0           186579208                       0   \n",
       "3       0           630631934                       0   \n",
       "4       0             2614157                 2279523   \n",
       "5       0             2370527                 4653271   \n",
       "\n",
       "  UnsecuredRollAircraftOnly TotalRollNoAircraft TotalAllRolls  \n",
       "0                       NaN                 NaN           NaN  \n",
       "2                         0           186579208     186579208  \n",
       "3                         0           630631934     630631934  \n",
       "4                         0             4893680       4893680  \n",
       "5                         0             7023798       7023798  "
      ]
     },
     "execution_count": 7,
     "metadata": {},
     "output_type": "execute_result"
    }
   ],
   "source": [
    "# Assign cleaned column names to dataframe\n",
    "df_raw.columns = colnames_cleaned\n",
    "# Now that we have column names, remove all subsequent \"header\" rows from data \n",
    "df_raw = df_raw[df_raw['ValueType']!='Value Type']\n",
    "# Preview\n",
    "df_raw.head()"
   ]
  },
  {
   "cell_type": "markdown",
   "id": "2314cf45-879c-4987-845c-61c6429553a6",
   "metadata": {
    "id": "2314cf45-879c-4987-845c-61c6429553a6"
   },
   "source": [
    "Now that the raw data has been cleaned up somewhat, a for loop will be used to iterate over the raw data to identify TAG Number, TAG Description, and pull all the values and assign them to a list to later convert to a dataframe. PIN COUNT row will be dropped. Rows containing subtotals: 'GROSS VALUE', 'TAXABLE NET', 'ADJUSTED NET' will be omitted. These values can be inferred later if need be."
   ]
  },
  {
   "cell_type": "code",
   "execution_count": 8,
   "id": "48ee1093-10a0-46a6-b906-e08e9e44ded2",
   "metadata": {
    "executionInfo": {
     "elapsed": 5027,
     "status": "ok",
     "timestamp": 1660775118457,
     "user": {
      "displayName": "Angel Gutierrez",
      "userId": "07929619807674696750"
     },
     "user_tz": 420
    },
    "id": "48ee1093-10a0-46a6-b906-e08e9e44ded2"
   },
   "outputs": [],
   "source": [
    "data_list = [] # will contain lists of values (each list corresponding to a row)\n",
    "skip_rows = ['GROSS VALUE', 'TAXABLE NET', 'ADJUSTED NET', 'PIN COUNT'] # rows containing unneeded values\n",
    "# begin iteration\n",
    "for index, row in df_raw.iterrows():\n",
    "    val_type = row['ValueType']\n",
    "    val_type = re.sub('[^A-Z\\s]','',val_type) # allow only for alphanum chars & whitespace\n",
    "    val_type = val_type.strip()\n",
    "    # If row is a TAG header row then extract identifying information\n",
    "    if val_type == 'TAG':\n",
    "        # Identify TAG \n",
    "        tag = row['SecuredRoll'].strip() # remove trailing / leading whitespace characters\n",
    "        tag = re.sub('\\s+',' ',tag) # replace consecutive space characters with single space\n",
    "        # separate TAG code from TAG Description\n",
    "        tag_num = tag.split(' ')[0]\n",
    "        tag_desc = ' '.join(tag.split(' ')[1:])\n",
    "        # some TAG descriptions have a year (sometimes preceded by dash) at the end of string\n",
    "        # We will remove extranous characters to clean it up (ex: \"MORENO VALEY - 2021\" -> \"MORENO VALLEY\") \n",
    "        tag_desc = re.sub('[^A-Z]+$','',tag_desc).strip()\n",
    "    # Otherwise, row is a data row, if row is not pin count row, pull all values from row into list and add this list to data_list\n",
    "    else:\n",
    "        if val_type == 'EXEMPTIONS': # convert values to negative\n",
    "            data_list.append([\n",
    "                tag_num,\n",
    "                tag_desc,\n",
    "                val_type,\n",
    "                row['SecuredRoll']*-1,\n",
    "                row['SBERoll']*-1,\n",
    "                row['CombinedSecured&SBE']*-1,\n",
    "                row['UnsecuredRollNoAircraft']*-1,\n",
    "                row['UnsecuredRollAircraftOnly']*-1,\n",
    "                row['TotalRollNoAircraft']*-1,\n",
    "                row['TotalAllRolls']*-1\n",
    "            ])            \n",
    "        elif val_type not in skip_rows:\n",
    "            data_list.append([\n",
    "                tag_num,\n",
    "                tag_desc,\n",
    "                val_type,\n",
    "                row['SecuredRoll'],\n",
    "                row['SBERoll'],\n",
    "                row['CombinedSecured&SBE'],\n",
    "                row['UnsecuredRollNoAircraft'],\n",
    "                row['UnsecuredRollAircraftOnly'],\n",
    "                row['TotalRollNoAircraft'],\n",
    "                row['TotalAllRolls']\n",
    "            ])"
   ]
  },
  {
   "cell_type": "code",
   "execution_count": 9,
   "id": "a8364e4e-e8ff-415c-a169-b2881a7c6bb4",
   "metadata": {
    "colab": {
     "base_uri": "https://localhost:8080/",
     "height": 357
    },
    "executionInfo": {
     "elapsed": 14,
     "status": "ok",
     "timestamp": 1660775118458,
     "user": {
      "displayName": "Angel Gutierrez",
      "userId": "07929619807674696750"
     },
     "user_tz": 420
    },
    "id": "a8364e4e-e8ff-415c-a169-b2881a7c6bb4",
    "outputId": "a3d7621d-8821-4830-e99a-f932b4c335ad"
   },
   "outputs": [
    {
     "data": {
      "text/html": [
       "<div>\n",
       "<style scoped>\n",
       "    .dataframe tbody tr th:only-of-type {\n",
       "        vertical-align: middle;\n",
       "    }\n",
       "\n",
       "    .dataframe tbody tr th {\n",
       "        vertical-align: top;\n",
       "    }\n",
       "\n",
       "    .dataframe thead th {\n",
       "        text-align: right;\n",
       "    }\n",
       "</style>\n",
       "<table border=\"1\" class=\"dataframe\">\n",
       "  <thead>\n",
       "    <tr style=\"text-align: right;\">\n",
       "      <th></th>\n",
       "      <th>TAGNum</th>\n",
       "      <th>TAGDesc</th>\n",
       "      <th>ValueType</th>\n",
       "      <th>SecuredRoll</th>\n",
       "      <th>SBERoll</th>\n",
       "      <th>CombinedSecured&amp;SBE</th>\n",
       "      <th>UnsecuredRollNoAircraft</th>\n",
       "      <th>UnsecuredRollAircraftOnly</th>\n",
       "      <th>TotalRollNoAircraft</th>\n",
       "      <th>TotalAllRolls</th>\n",
       "    </tr>\n",
       "  </thead>\n",
       "  <tbody>\n",
       "    <tr>\n",
       "      <th>0</th>\n",
       "      <td>001-000</td>\n",
       "      <td>BANNING</td>\n",
       "      <td>LAND</td>\n",
       "      <td>186579208</td>\n",
       "      <td>0</td>\n",
       "      <td>186579208</td>\n",
       "      <td>0</td>\n",
       "      <td>0</td>\n",
       "      <td>186579208</td>\n",
       "      <td>186579208</td>\n",
       "    </tr>\n",
       "    <tr>\n",
       "      <th>1</th>\n",
       "      <td>001-000</td>\n",
       "      <td>BANNING</td>\n",
       "      <td>STRUCTURES</td>\n",
       "      <td>630631934</td>\n",
       "      <td>0</td>\n",
       "      <td>630631934</td>\n",
       "      <td>0</td>\n",
       "      <td>0</td>\n",
       "      <td>630631934</td>\n",
       "      <td>630631934</td>\n",
       "    </tr>\n",
       "    <tr>\n",
       "      <th>2</th>\n",
       "      <td>001-000</td>\n",
       "      <td>BANNING</td>\n",
       "      <td>FIXTURES</td>\n",
       "      <td>2614157</td>\n",
       "      <td>0</td>\n",
       "      <td>2614157</td>\n",
       "      <td>2279523</td>\n",
       "      <td>0</td>\n",
       "      <td>4893680</td>\n",
       "      <td>4893680</td>\n",
       "    </tr>\n",
       "    <tr>\n",
       "      <th>3</th>\n",
       "      <td>001-000</td>\n",
       "      <td>BANNING</td>\n",
       "      <td>PERSONAL PROPERTY</td>\n",
       "      <td>2370527</td>\n",
       "      <td>0</td>\n",
       "      <td>2370527</td>\n",
       "      <td>4653271</td>\n",
       "      <td>0</td>\n",
       "      <td>7023798</td>\n",
       "      <td>7023798</td>\n",
       "    </tr>\n",
       "    <tr>\n",
       "      <th>4</th>\n",
       "      <td>001-000</td>\n",
       "      <td>BANNING</td>\n",
       "      <td>PENALTY</td>\n",
       "      <td>0</td>\n",
       "      <td>0</td>\n",
       "      <td>0</td>\n",
       "      <td>1270</td>\n",
       "      <td>0</td>\n",
       "      <td>1270</td>\n",
       "      <td>1270</td>\n",
       "    </tr>\n",
       "  </tbody>\n",
       "</table>\n",
       "</div>"
      ],
      "text/plain": [
       "    TAGNum  TAGDesc          ValueType  SecuredRoll  SBERoll  \\\n",
       "0  001-000  BANNING               LAND    186579208        0   \n",
       "1  001-000  BANNING         STRUCTURES    630631934        0   \n",
       "2  001-000  BANNING           FIXTURES      2614157        0   \n",
       "3  001-000  BANNING  PERSONAL PROPERTY      2370527        0   \n",
       "4  001-000  BANNING            PENALTY            0        0   \n",
       "\n",
       "   CombinedSecured&SBE  UnsecuredRollNoAircraft  UnsecuredRollAircraftOnly  \\\n",
       "0            186579208                        0                          0   \n",
       "1            630631934                        0                          0   \n",
       "2              2614157                  2279523                          0   \n",
       "3              2370527                  4653271                          0   \n",
       "4                    0                     1270                          0   \n",
       "\n",
       "   TotalRollNoAircraft  TotalAllRolls  \n",
       "0            186579208      186579208  \n",
       "1            630631934      630631934  \n",
       "2              4893680        4893680  \n",
       "3              7023798        7023798  \n",
       "4                 1270           1270  "
      ]
     },
     "execution_count": 9,
     "metadata": {},
     "output_type": "execute_result"
    }
   ],
   "source": [
    "# create the TAG dataframe from list of lists created in step above\n",
    "df = pd.DataFrame(data_list, columns = ['TAGNum', 'TAGDesc'] + colnames_cleaned)\n",
    "# Preview\n",
    "df.head()"
   ]
  },
  {
   "cell_type": "markdown",
   "id": "d0bda91e-9b37-4078-97bf-00ae7c33c7a2",
   "metadata": {
    "id": "d0bda91e-9b37-4078-97bf-00ae7c33c7a2"
   },
   "source": [
    "## Creating an Import Function\n",
    "Taking what we've learned above, I will re-tool the code into a custom function to import multiple files for multiple years. In addition, the function will add a new column: \"FY\" to denote which fiscal year the records pertain to. The fiscal year will be obtained from the filename as it denotes which fiscal year the data is for."
   ]
  },
  {
   "cell_type": "code",
   "execution_count": 10,
   "id": "8c7ebc82-16e8-4898-a099-2d77665e12c9",
   "metadata": {
    "executionInfo": {
     "elapsed": 12,
     "status": "ok",
     "timestamp": 1660775118458,
     "user": {
      "displayName": "Angel Gutierrez",
      "userId": "07929619807674696750"
     },
     "user_tz": 420
    },
    "id": "8c7ebc82-16e8-4898-a099-2d77665e12c9"
   },
   "outputs": [],
   "source": [
    "def import_data(filepath):\n",
    "    '''\n",
    "    PURPOSE: Will take xlsx filepath as argument and import CSV files to transform the data into a more suitable format for analysis\n",
    "    '''\n",
    "    df_raw = pd.read_excel(filepath, sheet_name=1, skiprows=5, skipfooter = 29)\n",
    "    df_raw = df_raw.loc[:,df_raw.notna().any(axis=0)] # drop columns comprised entirely of null values\n",
    "    df_raw = df_raw.dropna(axis = 0, how = 'all') # also drop rows comprised entirely of null values\n",
    "    col_names = df_raw.loc[1].tolist()\n",
    "    colnames_cleaned = []\n",
    "    for i in col_names:\n",
    "        name = i.replace(' ','').replace('\\n','')\n",
    "        colnames_cleaned.append(name)\n",
    "    df_raw.columns = colnames_cleaned # Assign cleaned column names to header\n",
    "    df_raw = df_raw[df_raw['ValueType']!='Value Type'] # Now that we have column names, omit sub-header rows from data \n",
    "    \n",
    "    # prepare for data iteration\n",
    "    data_list = [] # will contain lists of values (each list corresponding to a row)\n",
    "    skip_rows = ['GROSS VALUE', 'TAXABLE NET', 'ADJUSTED NET', 'PIN COUNT'] # rows containing unneeded values\n",
    "    # begin iteration\n",
    "    for index, row in df_raw.iterrows():\n",
    "        val_type = row['ValueType']\n",
    "        val_type = re.sub('[^A-Z\\s]','',val_type) # allow only for alphanum chars & whitespace\n",
    "        val_type = val_type.strip()\n",
    "        # If row is a TAG header row then extract identifying information\n",
    "        if val_type == 'TAG':\n",
    "            # Identify TAG \n",
    "            tag = row['SecuredRoll'].strip() # remove trailing / leading whitespace characters\n",
    "            tag = re.sub('\\s+',' ',tag) # replace consecutive space characters with single space\n",
    "            # separate TAG code from TAG Description\n",
    "            tag_num = tag.split(' ')[0]\n",
    "            tag_desc = ' '.join(tag.split(' ')[1:])\n",
    "            # some TAG descriptions have a year (sometimes preceded by dash) at the end of string\n",
    "            # We will remove extranous characters to clean it up (ex: \"MORENO VALEY - 2021\" -> \"MORENO VALLEY\") \n",
    "            tag_desc = re.sub('[^A-Z]+$','',tag_desc).strip()\n",
    "        # Otherwise, row is a data row, if row is not pin count row, pull all values from row into list and add this list to data_list\n",
    "        else:\n",
    "            if val_type == 'EXEMPTIONS': # convert values to negative\n",
    "                data_list.append([\n",
    "                    tag_num,\n",
    "                    tag_desc,\n",
    "                    val_type,\n",
    "                    row['SecuredRoll']*-1,\n",
    "                    row['SBERoll']*-1,\n",
    "                    row['CombinedSecured&SBE']*-1,\n",
    "                    row['UnsecuredRollNoAircraft']*-1,\n",
    "                    row['UnsecuredRollAircraftOnly']*-1,\n",
    "                    row['TotalRollNoAircraft']*-1,\n",
    "                    row['TotalAllRolls']*-1\n",
    "                ])            \n",
    "            elif val_type not in skip_rows:\n",
    "                data_list.append([\n",
    "                    tag_num,\n",
    "                    tag_desc,\n",
    "                    val_type,\n",
    "                    row['SecuredRoll'],\n",
    "                    row['SBERoll'],\n",
    "                    row['CombinedSecured&SBE'],\n",
    "                    row['UnsecuredRollNoAircraft'],\n",
    "                    row['UnsecuredRollAircraftOnly'],\n",
    "                    row['TotalRollNoAircraft'],\n",
    "                    row['TotalAllRolls']\n",
    "                ])\n",
    "\n",
    "    # create the TAG dataframe from list of lists created in step above\n",
    "    df = pd.DataFrame(data_list, columns = ['TAGNum', 'TAGDesc'] + colnames_cleaned)\n",
    "    \n",
    "    # Add a column with fiscal year (retrieved from filename using regex, yr will be in YY-YY format)\n",
    "    fy = re.search(r\"\\d{2}-\\d{2}\", filepath).group(0)\n",
    "    fy = f\"20{fy.split('-')[0]}-20{fy.split('-')[1]}\" # change to YYYY-YYYY format\n",
    "    df['FY'] = fy # assign FY value to column\n",
    "    df = df[['FY'] + [col for col in df.columns if col != 'FY']] # Move FY column to the front\n",
    "\n",
    "    return df # Return the dataframe"
   ]
  },
  {
   "cell_type": "markdown",
   "id": "304bb87d-95d7-4f0d-adf9-e84b4fa28ce0",
   "metadata": {
    "id": "304bb87d-95d7-4f0d-adf9-e84b4fa28ce0"
   },
   "source": [
    "Using the function to import files into 3 seperate dataframes:"
   ]
  },
  {
   "cell_type": "code",
   "execution_count": 11,
   "id": "56dff0a0-f700-4d32-b82c-4ec745a78747",
   "metadata": {
    "executionInfo": {
     "elapsed": 41194,
     "status": "ok",
     "timestamp": 1660775159640,
     "user": {
      "displayName": "Angel Gutierrez",
      "userId": "07929619807674696750"
     },
     "user_tz": 420
    },
    "id": "56dff0a0-f700-4d32-b82c-4ec745a78747"
   },
   "outputs": [],
   "source": [
    "# import files using function\n",
    "df1= import_data('FY 19-20 Preliminary Roll Valuation.xlsx')\n",
    "df2= import_data('FY 20-21 Preliminary Roll Valuation.xlsx')\n",
    "df3= import_data('FY 22-23 Preliminary Roll Valuation.xlsx')"
   ]
  },
  {
   "cell_type": "markdown",
   "id": "d6b9db45-280d-4665-8a43-7077f4e8ea17",
   "metadata": {
    "id": "d6b9db45-280d-4665-8a43-7077f4e8ea17"
   },
   "source": [
    "Concatenate all rows from the imported data for all fiscal years into one dataframe:"
   ]
  },
  {
   "cell_type": "code",
   "execution_count": 12,
   "id": "3409b69a-373b-4d50-ae29-9b90a3aa013e",
   "metadata": {
    "executionInfo": {
     "elapsed": 6,
     "status": "ok",
     "timestamp": 1660775159641,
     "user": {
      "displayName": "Angel Gutierrez",
      "userId": "07929619807674696750"
     },
     "user_tz": 420
    },
    "id": "3409b69a-373b-4d50-ae29-9b90a3aa013e"
   },
   "outputs": [],
   "source": [
    "df_combined = pd.concat([df1,df2,df3], axis=0, ignore_index=True)"
   ]
  },
  {
   "cell_type": "markdown",
   "id": "13d4777c-0ec5-4cff-827b-41bd6ba425d0",
   "metadata": {
    "id": "13d4777c-0ec5-4cff-827b-41bd6ba425d0"
   },
   "source": [
    "## Analyzing the Data"
   ]
  },
  {
   "cell_type": "markdown",
   "id": "81775ad0-f9ec-4f05-9f8a-1eb5c7ad88c6",
   "metadata": {
    "id": "81775ad0-f9ec-4f05-9f8a-1eb5c7ad88c6"
   },
   "source": [
    "### Total Assessed Values by Fiscal year"
   ]
  },
  {
   "cell_type": "code",
   "execution_count": 13,
   "id": "cabb5aba-29be-478c-a381-992fd412c800",
   "metadata": {
    "executionInfo": {
     "elapsed": 5,
     "status": "ok",
     "timestamp": 1660775159641,
     "user": {
      "displayName": "Angel Gutierrez",
      "userId": "07929619807674696750"
     },
     "user_tz": 420
    },
    "id": "cabb5aba-29be-478c-a381-992fd412c800"
   },
   "outputs": [],
   "source": [
    "df_fy = df_combined.groupby('FY').sum().reset_index()"
   ]
  },
  {
   "cell_type": "markdown",
   "id": "c58523ab-1541-4138-833a-cbf98b5db390",
   "metadata": {
    "id": "c58523ab-1541-4138-833a-cbf98b5db390"
   },
   "source": [
    "Visualizing total growth in assessed values by fiscal year:"
   ]
  },
  {
   "cell_type": "code",
   "execution_count": 14,
   "id": "7233c4f6-582a-415e-a073-c07f96899f3b",
   "metadata": {
    "colab": {
     "base_uri": "https://localhost:8080/",
     "height": 301
    },
    "executionInfo": {
     "elapsed": 810,
     "status": "ok",
     "timestamp": 1660775160447,
     "user": {
      "displayName": "Angel Gutierrez",
      "userId": "07929619807674696750"
     },
     "user_tz": 420
    },
    "id": "7233c4f6-582a-415e-a073-c07f96899f3b",
    "outputId": "7cbf40cc-64d0-4593-911c-0e4086e944f8"
   },
   "outputs": [
    {
     "data": {
      "image/png": "[encoded data removed]",
      "text/plain": [
       "<Figure size 576x288 with 1 Axes>"
      ]
     },
     "metadata": {},
     "output_type": "display_data"
    }
   ],
   "source": [
    "fig = plt.figure(figsize=(8,4)) # set size of chart\n",
    "\n",
    "# plotting parameters\n",
    "ax = sns.barplot(x = 'FY',\n",
    "            y = 'TotalAllRolls',\n",
    "            data = df_fy)\n",
    "\n",
    "# add chart labels\n",
    "ax.set(xlabel='Fiscal Year', ylabel='Assessed Valuation', title = 'Total Assessed Valuations: FY 2019-2022')\n",
    "for container in ax.containers: # total value in dollars\n",
    "    ax.bar_label(container, label_type='center', labels=[f'{x:,.0f}' for x in container.datavalues])\n",
    "for container in ax.containers: # % change\n",
    "    ax.bar_label(container, labels=[f'+{x:,.0%}' for x in df_fy['TotalAllRolls'].pct_change().reset_index()['TotalAllRolls']])\n",
    "\n",
    "# Add comma separators to y axis tick labels\n",
    "plt.gca().yaxis.set_major_formatter(StrMethodFormatter('{x:,.0f}'))\n",
    "\n",
    "plt.show() # display chart"
   ]
  },
  {
   "cell_type": "markdown",
   "id": "ada94df0-2238-4807-b365-4b9410bb5b2f",
   "metadata": {
    "id": "ada94df0-2238-4807-b365-4b9410bb5b2f"
   },
   "source": [
    "In grouping ALL assessed values for the three fiscal years for which we have data for, when compared to prior year, total assessed valuations for the county increased 6% in the 2020-2021 fiscal year and 16% in the 2022-2023 fiscal year."
   ]
  },
  {
   "cell_type": "markdown",
   "id": "6a10b686-899c-4096-abdf-f402c8590427",
   "metadata": {
    "id": "6a10b686-899c-4096-abdf-f402c8590427"
   },
   "source": [
    "### Total Assessed Values by Fiscal year and Property Type"
   ]
  },
  {
   "cell_type": "code",
   "execution_count": 15,
   "id": "ff093cd8-b1c6-4226-92bd-2533da4b5526",
   "metadata": {
    "colab": {
     "base_uri": "https://localhost:8080/",
     "height": 300
    },
    "executionInfo": {
     "elapsed": 9,
     "status": "ok",
     "timestamp": 1660775160447,
     "user": {
      "displayName": "Angel Gutierrez",
      "userId": "07929619807674696750"
     },
     "user_tz": 420
    },
    "id": "ff093cd8-b1c6-4226-92bd-2533da4b5526",
    "outputId": "ceed2400-e673-4797-88de-07a94ab31e7b"
   },
   "outputs": [
    {
     "data": {
      "text/html": [
       "<div>\n",
       "<style scoped>\n",
       "    .dataframe tbody tr th:only-of-type {\n",
       "        vertical-align: middle;\n",
       "    }\n",
       "\n",
       "    .dataframe tbody tr th {\n",
       "        vertical-align: top;\n",
       "    }\n",
       "\n",
       "    .dataframe thead th {\n",
       "        text-align: right;\n",
       "    }\n",
       "</style>\n",
       "<table border=\"1\" class=\"dataframe\">\n",
       "  <thead>\n",
       "    <tr style=\"text-align: right;\">\n",
       "      <th>FY</th>\n",
       "      <th>ValueType</th>\n",
       "      <th>2019-2020</th>\n",
       "      <th>2020-2021</th>\n",
       "      <th>2022-2023</th>\n",
       "      <th>3YrPctChange</th>\n",
       "    </tr>\n",
       "  </thead>\n",
       "  <tbody>\n",
       "    <tr>\n",
       "      <th>1</th>\n",
       "      <td>FIXTURES</td>\n",
       "      <td>4838727652</td>\n",
       "      <td>5116887751</td>\n",
       "      <td>6350109667</td>\n",
       "      <td>31.24</td>\n",
       "    </tr>\n",
       "    <tr>\n",
       "      <th>7</th>\n",
       "      <td>STRUCTURES</td>\n",
       "      <td>204715085081</td>\n",
       "      <td>218488251405</td>\n",
       "      <td>255852121787</td>\n",
       "      <td>24.98</td>\n",
       "    </tr>\n",
       "    <tr>\n",
       "      <th>6</th>\n",
       "      <td>PERSONAL PROPERTY</td>\n",
       "      <td>5822217745</td>\n",
       "      <td>6031234114</td>\n",
       "      <td>6701930997</td>\n",
       "      <td>15.11</td>\n",
       "    </tr>\n",
       "    <tr>\n",
       "      <th>3</th>\n",
       "      <td>LAND</td>\n",
       "      <td>87442944767</td>\n",
       "      <td>90595079458</td>\n",
       "      <td>100526076186</td>\n",
       "      <td>14.96</td>\n",
       "    </tr>\n",
       "    <tr>\n",
       "      <th>0</th>\n",
       "      <td>EXEMPTIONS</td>\n",
       "      <td>-9354329428</td>\n",
       "      <td>-9765355372</td>\n",
       "      <td>-10285250022</td>\n",
       "      <td>9.95</td>\n",
       "    </tr>\n",
       "    <tr>\n",
       "      <th>4</th>\n",
       "      <td>LIVING IMPROVMENTS</td>\n",
       "      <td>81952960</td>\n",
       "      <td>80506764</td>\n",
       "      <td>84537023</td>\n",
       "      <td>3.15</td>\n",
       "    </tr>\n",
       "    <tr>\n",
       "      <th>2</th>\n",
       "      <td>HO EXEM</td>\n",
       "      <td>2013806617</td>\n",
       "      <td>1982994001</td>\n",
       "      <td>1935703938</td>\n",
       "      <td>-3.88</td>\n",
       "    </tr>\n",
       "    <tr>\n",
       "      <th>5</th>\n",
       "      <td>PENALTY</td>\n",
       "      <td>110969106</td>\n",
       "      <td>100252342</td>\n",
       "      <td>103688462</td>\n",
       "      <td>-6.56</td>\n",
       "    </tr>\n",
       "  </tbody>\n",
       "</table>\n",
       "</div>"
      ],
      "text/plain": [
       "FY           ValueType     2019-2020     2020-2021     2022-2023  3YrPctChange\n",
       "1             FIXTURES    4838727652    5116887751    6350109667         31.24\n",
       "7           STRUCTURES  204715085081  218488251405  255852121787         24.98\n",
       "6    PERSONAL PROPERTY    5822217745    6031234114    6701930997         15.11\n",
       "3                 LAND   87442944767   90595079458  100526076186         14.96\n",
       "0           EXEMPTIONS   -9354329428   -9765355372  -10285250022          9.95\n",
       "4   LIVING IMPROVMENTS      81952960      80506764      84537023          3.15\n",
       "2              HO EXEM    2013806617    1982994001    1935703938         -3.88\n",
       "5              PENALTY     110969106     100252342     103688462         -6.56"
      ]
     },
     "execution_count": 15,
     "metadata": {},
     "output_type": "execute_result"
    }
   ],
   "source": [
    "# New dataframe grouped by fiscal year\n",
    "df_VT = df_combined.groupby(['FY','ValueType']).sum().reset_index()\n",
    "\n",
    "# Transform to show fiscal years as columns\n",
    "df_VT = pd.pivot_table(\n",
    "    df_VT, values='TotalAllRolls', index=['ValueType'], \n",
    "    columns = 'FY', aggfunc=np.sum).reset_index().dropna()#fillna(0)\n",
    "\n",
    "# Add a percentage change column\n",
    "df_VT['3YrPctChange'] = ((df_VT['2022-2023']-df_VT['2019-2020'])/df_VT['2019-2020'])*100\n",
    "\n",
    "df_VT.sort_values(by=['3YrPctChange'], ascending=False) # Display dataframe"
   ]
  },
  {
   "cell_type": "markdown",
   "id": "9c51aabc-9568-48fd-9681-014bbe72d86e",
   "metadata": {
    "id": "9c51aabc-9568-48fd-9681-014bbe72d86e"
   },
   "source": [
    "Of the different assessment types, assessments for fixtures and structures increased the most over this three year span, having increased 31% and 25% respectively."
   ]
  },
  {
   "cell_type": "code",
   "execution_count": 16,
   "id": "e18701b8-30e6-40fe-8ff7-43e099efa8be",
   "metadata": {
    "colab": {
     "base_uri": "https://localhost:8080/",
     "height": 410
    },
    "executionInfo": {
     "elapsed": 8,
     "status": "ok",
     "timestamp": 1660775160447,
     "user": {
      "displayName": "Angel Gutierrez",
      "userId": "07929619807674696750"
     },
     "user_tz": 420
    },
    "id": "e18701b8-30e6-40fe-8ff7-43e099efa8be",
    "outputId": "33ced9a3-2d3c-4a38-9af0-825ddbc27624"
   },
   "outputs": [
    {
     "data": {
      "image/png": "[encoded data removed]",
      "text/plain": [
       "<Figure size 864x432 with 1 Axes>"
      ]
     },
     "metadata": {},
     "output_type": "display_data"
    }
   ],
   "source": [
    "# Re-shape data\n",
    "df_VT = df_combined.groupby(['FY','ValueType']).sum().reset_index()\n",
    "df_VT = pd.pivot_table(\n",
    "    df_VT, values='TotalAllRolls', index=['FY'], \n",
    "    columns = 'ValueType', aggfunc=np.sum).reset_index().rename_axis(None, axis=1).dropna()#fillna(0)\n",
    "\n",
    "# Create chart\n",
    "ax = df_VT.set_index('FY').plot(kind='bar', stacked=True)\n",
    "ax.set(xlabel='Fiscal Year', ylabel='Total Assessed Valuation', title = 'Total Assessed Valuations by Property Type: FY 2019-2022')\n",
    "ax.tick_params(axis='x', rotation=0)\n",
    "\n",
    "# Chart legend & size configuration\n",
    "plt.legend(bbox_to_anchor=(1.02, 1), loc=2, borderaxespad=0.)\n",
    "plt.gcf().set_size_inches(12, 6)\n",
    "\n",
    "# Add comma separators to y axis tick labels\n",
    "plt.gca().yaxis.set_major_formatter(StrMethodFormatter('{x:,.0f}'))\n",
    "\n",
    "plt.show() # Display chart"
   ]
  },
  {
   "cell_type": "markdown",
   "id": "d63e5330-380a-46c1-b3b7-3abe95b59fc5",
   "metadata": {
    "id": "d63e5330-380a-46c1-b3b7-3abe95b59fc5"
   },
   "source": [
    "As depicted in above stacked bar chart, of the various assessment value types, two stand out in the majority: Structures and land. Averaging the assessment totals for these three given years:\n",
    "- **Structures** account for 70% of total assessment valuation\n",
    "- **Land** account for 28% of total assessment valuation\n",
    "\n",
    "The remaining assessment valuation types are comparatively small."
   ]
  },
  {
   "cell_type": "markdown",
   "id": "f843fb00-c6c2-4cf0-83a5-63e1f4f97131",
   "metadata": {
    "id": "f843fb00-c6c2-4cf0-83a5-63e1f4f97131"
   },
   "source": [
    "### Total Assessed Values by Fiscal Year and Roll Type"
   ]
  },
  {
   "cell_type": "markdown",
   "id": "8e404c51-5faa-49ad-bbf5-1f71ada663de",
   "metadata": {
    "id": "8e404c51-5faa-49ad-bbf5-1f71ada663de"
   },
   "source": [
    "The County Assessor generally classifies assessments as **secured** or **unsecured**. \n",
    "- **Secured**: Property permanaently affixed to land (buildings, land)\n",
    "- **Unsecured**: Property not permanently affixed to land (mobile homes, aircraft, boats, business personal property)\n",
    "\n",
    "With this in mind, we can evaluate how much of the annual assessed values are secured and how much are unsecured by grouping the data by fiscal year:"
   ]
  },
  {
   "cell_type": "code",
   "execution_count": 17,
   "id": "26be6b26-77c6-45f7-9817-10fe4bf60f80",
   "metadata": {
    "colab": {
     "base_uri": "https://localhost:8080/",
     "height": 143
    },
    "executionInfo": {
     "elapsed": 525,
     "status": "ok",
     "timestamp": 1660775160966,
     "user": {
      "displayName": "Angel Gutierrez",
      "userId": "07929619807674696750"
     },
     "user_tz": 420
    },
    "id": "26be6b26-77c6-45f7-9817-10fe4bf60f80",
    "outputId": "8fde05dd-ffbc-422f-cfae-aecd0be7130a"
   },
   "outputs": [
    {
     "data": {
      "text/html": [
       "<div>\n",
       "<style scoped>\n",
       "    .dataframe tbody tr th:only-of-type {\n",
       "        vertical-align: middle;\n",
       "    }\n",
       "\n",
       "    .dataframe tbody tr th {\n",
       "        vertical-align: top;\n",
       "    }\n",
       "\n",
       "    .dataframe thead th {\n",
       "        text-align: right;\n",
       "    }\n",
       "</style>\n",
       "<table border=\"1\" class=\"dataframe\">\n",
       "  <thead>\n",
       "    <tr style=\"text-align: right;\">\n",
       "      <th></th>\n",
       "      <th>FY</th>\n",
       "      <th>SecuredRoll</th>\n",
       "      <th>SBERoll</th>\n",
       "      <th>CombinedSecured&amp;SBE</th>\n",
       "      <th>UnsecuredRollNoAircraft</th>\n",
       "      <th>UnsecuredRollAircraftOnly</th>\n",
       "      <th>TotalRollNoAircraft</th>\n",
       "      <th>TotalAllRolls</th>\n",
       "    </tr>\n",
       "  </thead>\n",
       "  <tbody>\n",
       "    <tr>\n",
       "      <th>0</th>\n",
       "      <td>2019-2020</td>\n",
       "      <td>286624324573</td>\n",
       "      <td>0</td>\n",
       "      <td>286624324573</td>\n",
       "      <td>8910995474</td>\n",
       "      <td>136054453</td>\n",
       "      <td>295535320047</td>\n",
       "      <td>295671374500</td>\n",
       "    </tr>\n",
       "    <tr>\n",
       "      <th>1</th>\n",
       "      <td>2020-2021</td>\n",
       "      <td>303184565008</td>\n",
       "      <td>0</td>\n",
       "      <td>303184565008</td>\n",
       "      <td>9276609523</td>\n",
       "      <td>168675932</td>\n",
       "      <td>312461174531</td>\n",
       "      <td>312629850463</td>\n",
       "    </tr>\n",
       "    <tr>\n",
       "      <th>2</th>\n",
       "      <td>2022-2023</td>\n",
       "      <td>350114585439</td>\n",
       "      <td>0</td>\n",
       "      <td>350114585439</td>\n",
       "      <td>10956781778</td>\n",
       "      <td>197550821</td>\n",
       "      <td>361071367217</td>\n",
       "      <td>361268918038</td>\n",
       "    </tr>\n",
       "  </tbody>\n",
       "</table>\n",
       "</div>"
      ],
      "text/plain": [
       "          FY   SecuredRoll  SBERoll  CombinedSecured&SBE  \\\n",
       "0  2019-2020  286624324573        0         286624324573   \n",
       "1  2020-2021  303184565008        0         303184565008   \n",
       "2  2022-2023  350114585439        0         350114585439   \n",
       "\n",
       "   UnsecuredRollNoAircraft  UnsecuredRollAircraftOnly  TotalRollNoAircraft  \\\n",
       "0               8910995474                  136054453         295535320047   \n",
       "1               9276609523                  168675932         312461174531   \n",
       "2              10956781778                  197550821         361071367217   \n",
       "\n",
       "   TotalAllRolls  \n",
       "0   295671374500  \n",
       "1   312629850463  \n",
       "2   361268918038  "
      ]
     },
     "execution_count": 17,
     "metadata": {},
     "output_type": "execute_result"
    }
   ],
   "source": [
    "# Group data by Roll type:\n",
    "df_roll = df_combined.groupby(['FY']).sum().reset_index()\n",
    "df_roll"
   ]
  },
  {
   "cell_type": "markdown",
   "id": "f3eaef4d-7116-443a-a7fb-4a8e34515f0f",
   "metadata": {
    "id": "f3eaef4d-7116-443a-a7fb-4a8e34515f0f"
   },
   "source": [
    "Upon grouping the data, we can see there are some uneccessary/redundant columns. for example, **SBERoll** column is 0, which also makes the **CombinedSecured&SBE** column unnecessary. The Unsecured roll is split between aircraft and non-aircraft properties, for the purposes of this analysis, we are just interested in unsecured property as a whole so we will combine them into one column. What we should have left is a compact dataframe with a column for **SecuredRoll** and another column for **UnsecuredRoll**."
   ]
  },
  {
   "cell_type": "code",
   "execution_count": 18,
   "id": "4c6fe751-24a7-4476-9f68-f753a7af95b0",
   "metadata": {
    "colab": {
     "base_uri": "https://localhost:8080/",
     "height": 143
    },
    "executionInfo": {
     "elapsed": 21,
     "status": "ok",
     "timestamp": 1660775160967,
     "user": {
      "displayName": "Angel Gutierrez",
      "userId": "07929619807674696750"
     },
     "user_tz": 420
    },
    "id": "4c6fe751-24a7-4476-9f68-f753a7af95b0",
    "outputId": "74aa0653-31ec-4d19-8135-54b07c3373ab"
   },
   "outputs": [
    {
     "data": {
      "text/html": [
       "<div>\n",
       "<style scoped>\n",
       "    .dataframe tbody tr th:only-of-type {\n",
       "        vertical-align: middle;\n",
       "    }\n",
       "\n",
       "    .dataframe tbody tr th {\n",
       "        vertical-align: top;\n",
       "    }\n",
       "\n",
       "    .dataframe thead th {\n",
       "        text-align: right;\n",
       "    }\n",
       "</style>\n",
       "<table border=\"1\" class=\"dataframe\">\n",
       "  <thead>\n",
       "    <tr style=\"text-align: right;\">\n",
       "      <th></th>\n",
       "      <th>FY</th>\n",
       "      <th>SecuredRoll</th>\n",
       "      <th>UnsecuredRoll</th>\n",
       "    </tr>\n",
       "  </thead>\n",
       "  <tbody>\n",
       "    <tr>\n",
       "      <th>0</th>\n",
       "      <td>2019-2020</td>\n",
       "      <td>286624324573</td>\n",
       "      <td>9047049927</td>\n",
       "    </tr>\n",
       "    <tr>\n",
       "      <th>1</th>\n",
       "      <td>2020-2021</td>\n",
       "      <td>303184565008</td>\n",
       "      <td>9445285455</td>\n",
       "    </tr>\n",
       "    <tr>\n",
       "      <th>2</th>\n",
       "      <td>2022-2023</td>\n",
       "      <td>350114585439</td>\n",
       "      <td>11154332599</td>\n",
       "    </tr>\n",
       "  </tbody>\n",
       "</table>\n",
       "</div>"
      ],
      "text/plain": [
       "          FY   SecuredRoll  UnsecuredRoll\n",
       "0  2019-2020  286624324573     9047049927\n",
       "1  2020-2021  303184565008     9445285455\n",
       "2  2022-2023  350114585439    11154332599"
      ]
     },
     "execution_count": 18,
     "metadata": {},
     "output_type": "execute_result"
    }
   ],
   "source": [
    "# Sum Unsecured roll types into one column\n",
    "df_roll['UnsecuredRoll'] = df_roll['UnsecuredRollNoAircraft'] + df_roll['UnsecuredRollAircraftOnly']\n",
    "\n",
    "# Dropping unnecessary columns\n",
    "df_roll = df_roll.drop(\n",
    "    columns=[\n",
    "        'SBERoll', \n",
    "        'CombinedSecured&SBE',\n",
    "        'TotalRollNoAircraft',\n",
    "        'TotalAllRolls', \n",
    "        'UnsecuredRollNoAircraft', \n",
    "        'UnsecuredRollAircraftOnly'])\n",
    "df_roll"
   ]
  },
  {
   "cell_type": "code",
   "execution_count": 19,
   "id": "4118ed31-b81a-4d05-afda-8be43308d800",
   "metadata": {
    "colab": {
     "base_uri": "https://localhost:8080/",
     "height": 410
    },
    "executionInfo": {
     "elapsed": 20,
     "status": "ok",
     "timestamp": 1660775160967,
     "user": {
      "displayName": "Angel Gutierrez",
      "userId": "07929619807674696750"
     },
     "user_tz": 420
    },
    "id": "4118ed31-b81a-4d05-afda-8be43308d800",
    "outputId": "b57e0ba7-7e23-4b27-94f6-cb65f05fb7c5"
   },
   "outputs": [
    {
     "data": {
      "image/png": "[encoded data removed]",
      "text/plain": [
       "<Figure size 864x432 with 1 Axes>"
      ]
     },
     "metadata": {},
     "output_type": "display_data"
    }
   ],
   "source": [
    "# Create chart\n",
    "ax = df_roll.set_index('FY').plot(kind='bar', stacked=True)\n",
    "ax.set(xlabel='Fiscal Year', ylabel='Total Assessed Valuation', title = 'Total Assessed Valuations by Roll Type: FY 2019-2022')\n",
    "ax.tick_params(axis='x', rotation=0)\n",
    "\n",
    "# Chart label & size configuration\n",
    "plt.legend(bbox_to_anchor=(1.02, 1), loc=2, borderaxespad=0.)\n",
    "plt.gcf().set_size_inches(12, 6)\n",
    "\n",
    "# Add comma separators to y axis tick labels\n",
    "plt.gca().yaxis.set_major_formatter(StrMethodFormatter('{x:,.0f}'))\n",
    "\n",
    "plt.show() # Display chart"
   ]
  },
  {
   "cell_type": "markdown",
   "id": "3380ce01-7f43-442e-b445-ab05681a8a3a",
   "metadata": {
    "id": "3380ce01-7f43-442e-b445-ab05681a8a3a"
   },
   "source": [
    "Based on above figures we can immediately see that the secured roll makes up the overwhelming majority of the county's total assessment."
   ]
  },
  {
   "cell_type": "markdown",
   "id": "a6861563-a676-4522-bf67-d1f5268644b3",
   "metadata": {
    "id": "a6861563-a676-4522-bf67-d1f5268644b3"
   },
   "source": [
    "### Areas With Greatest Change In Assessed Property Values:"
   ]
  },
  {
   "cell_type": "markdown",
   "id": "IEeatWr71IdP",
   "metadata": {
    "id": "IEeatWr71IdP"
   },
   "source": [
    "While the total roll has been increasing year over year, it will be interesting to see which specific areas (cities and districts) have been leading the growth. This section will identify the county's highest growth areas."
   ]
  },
  {
   "cell_type": "markdown",
   "id": "pUVBeztQ1o8R",
   "metadata": {
    "id": "pUVBeztQ1o8R"
   },
   "source": [
    "We will start by grouping the assessed values data by TAG Number and then transposing the results to show fiscal year as columns:"
   ]
  },
  {
   "cell_type": "code",
   "execution_count": 20,
   "id": "77b4de83-d58b-4946-8bc6-81ba6e13d024",
   "metadata": {
    "colab": {
     "base_uri": "https://localhost:8080/",
     "height": 206
    },
    "executionInfo": {
     "elapsed": 21,
     "status": "ok",
     "timestamp": 1660775160968,
     "user": {
      "displayName": "Angel Gutierrez",
      "userId": "07929619807674696750"
     },
     "user_tz": 420
    },
    "id": "77b4de83-d58b-4946-8bc6-81ba6e13d024",
    "outputId": "3f511ac8-ef13-45d5-d556-b2bcb39d1a60"
   },
   "outputs": [
    {
     "data": {
      "text/html": [
       "<div>\n",
       "<style scoped>\n",
       "    .dataframe tbody tr th:only-of-type {\n",
       "        vertical-align: middle;\n",
       "    }\n",
       "\n",
       "    .dataframe tbody tr th {\n",
       "        vertical-align: top;\n",
       "    }\n",
       "\n",
       "    .dataframe thead th {\n",
       "        text-align: right;\n",
       "    }\n",
       "</style>\n",
       "<table border=\"1\" class=\"dataframe\">\n",
       "  <thead>\n",
       "    <tr style=\"text-align: right;\">\n",
       "      <th></th>\n",
       "      <th>TAGNum</th>\n",
       "      <th>2019-2020</th>\n",
       "      <th>2020-2021</th>\n",
       "      <th>2022-2023</th>\n",
       "    </tr>\n",
       "  </thead>\n",
       "  <tbody>\n",
       "    <tr>\n",
       "      <th>0</th>\n",
       "      <td>001-000</td>\n",
       "      <td>677779760.00</td>\n",
       "      <td>713648989.00</td>\n",
       "      <td>806834033.00</td>\n",
       "    </tr>\n",
       "    <tr>\n",
       "      <th>1</th>\n",
       "      <td>001-001</td>\n",
       "      <td>98362477.00</td>\n",
       "      <td>104582838.00</td>\n",
       "      <td>178201406.00</td>\n",
       "    </tr>\n",
       "    <tr>\n",
       "      <th>2</th>\n",
       "      <td>001-002</td>\n",
       "      <td>22559968.00</td>\n",
       "      <td>24232588.00</td>\n",
       "      <td>25861550.00</td>\n",
       "    </tr>\n",
       "    <tr>\n",
       "      <th>3</th>\n",
       "      <td>001-003</td>\n",
       "      <td>17128200.00</td>\n",
       "      <td>18036609.00</td>\n",
       "      <td>19478210.00</td>\n",
       "    </tr>\n",
       "    <tr>\n",
       "      <th>4</th>\n",
       "      <td>001-004</td>\n",
       "      <td>117673950.00</td>\n",
       "      <td>119218970.00</td>\n",
       "      <td>196117955.00</td>\n",
       "    </tr>\n",
       "  </tbody>\n",
       "</table>\n",
       "</div>"
      ],
      "text/plain": [
       "    TAGNum    2019-2020    2020-2021    2022-2023\n",
       "0  001-000 677779760.00 713648989.00 806834033.00\n",
       "1  001-001  98362477.00 104582838.00 178201406.00\n",
       "2  001-002  22559968.00  24232588.00  25861550.00\n",
       "3  001-003  17128200.00  18036609.00  19478210.00\n",
       "4  001-004 117673950.00 119218970.00 196117955.00"
      ]
     },
     "execution_count": 20,
     "metadata": {},
     "output_type": "execute_result"
    }
   ],
   "source": [
    "# Group by fiscal year, TAG and sum\n",
    "df_tag = df_combined.groupby(['FY','TAGNum']).sum().reset_index()\n",
    "\n",
    "# Transform to show annual totals as columns\n",
    "df_tag = pd.pivot_table(\n",
    "    df_tag, values='TotalAllRolls', index=['TAGNum'], \n",
    "    columns = 'FY', aggfunc=np.sum).reset_index().rename_axis(None, axis=1).fillna(0)#.dropna()\n",
    "\n",
    "df_tag.head() # Preview the dataframe"
   ]
  },
  {
   "cell_type": "markdown",
   "id": "bd5be6ef-6914-4052-9bf5-de018c1f69d3",
   "metadata": {
    "id": "bd5be6ef-6914-4052-9bf5-de018c1f69d3"
   },
   "source": [
    "Unfortunately the TAG Descriptions in the datset are rather are messy and inconsistent as it seems they were input manually into the system that generated our dataset. It would be easier to recreate using data provided by the Riverside ACO. \n",
    "An index of primary TAG Numbers (the first part of full TAG number denoting the specific area) and their corresponding city or district can found in the document labeled **Primary Tax Rate Area Number and Names** at the following link:\n",
    "\n",
    "https://www.auditorcontroller.org/Divisions/PropertyTaxDivision/TaxRateBook.aspx\n",
    "\n",
    "Using this information found online, a dictionary of primary TAG numbers was created (note that school districts are those names ending in \"USD\" (Unified School District):"
   ]
  },
  {
   "cell_type": "code",
   "execution_count": 21,
   "id": "218a1b6e-b430-4bd4-bd31-dba64ccb1ace",
   "metadata": {
    "executionInfo": {
     "elapsed": 20,
     "status": "ok",
     "timestamp": 1660775160968,
     "user": {
      "displayName": "Angel Gutierrez",
      "userId": "07929619807674696750"
     },
     "user_tz": 420
    },
    "id": "218a1b6e-b430-4bd4-bd31-dba64ccb1ace"
   },
   "outputs": [],
   "source": [
    "TAG_dict = {\n",
    "    '1': 'Banning',\n",
    "    '10': 'San Jacinto',\n",
    "    '11': 'Palm Springs',\n",
    "    '12': 'Coachella',\n",
    "    '13': 'Temecula',\n",
    "    '14': 'Desert Hot Springs',\n",
    "    '15': 'Norco',\n",
    "    '16': 'Indian Wells',\n",
    "    '17': 'Rancho Mirage',\n",
    "    '18': 'Palm Desert',\n",
    "    '19': 'Cathedral',\n",
    "    '2': 'Beaumont',\n",
    "    '20': 'La Quinta',\n",
    "    '21': 'Moreno Valley',\n",
    "    '22': 'Calimesa',\n",
    "    '23': 'Canyon Lake',\n",
    "    '24': 'Murrieta',\n",
    "    '25': 'Wildomar',\n",
    "    '26': 'Menifee Valley',\n",
    "    '27': 'Eastvale',\n",
    "    '28': 'Jurupa Valley',\n",
    "    '3': 'Blythe',\n",
    "    '4': 'Corona',\n",
    "    '5': 'Lake Elsinore',\n",
    "    '6': 'Hemet',\n",
    "    '7': 'Indio',\n",
    "    '8': 'Perris',\n",
    "    '9': 'Riverside',\n",
    "    '53': 'Alvord USD',\n",
    "    '54': 'Menifee Union USD',\n",
    "    '55': 'Banning USD',\n",
    "    '56': 'Beaumont USD',\n",
    "    '58': 'Coachella USD',\n",
    "    '59': 'Corona-Norco USD',\n",
    "    '61': 'Palm Springs USD',\n",
    "    '62': 'Desert Center USD',\n",
    "    '65': 'Lake Elsinore USD',\n",
    "    '68': 'Colton JT USD',\n",
    "    '71': 'Hemet USD',\n",
    "    '75': 'Desert Sands USD',\n",
    "    '80': 'Moreno Valley USD',\n",
    "    '82': 'Murrieta Valley USD',\n",
    "    '83': 'Nuview Union USD',\n",
    "    '85': 'Palo Verde USD',\n",
    "    '87': 'Perris Union USD',\n",
    "    '88': 'Riverside USD',\n",
    "    '89': 'Romoland Elem USD',\n",
    "    '91': 'San Jacinto USD',\n",
    "    '94': 'Temecula Valley USD',\n",
    "    '97': 'Yucaipa JT USD',\n",
    "    '98': 'Val Verde USD'\n",
    "}"
   ]
  },
  {
   "cell_type": "markdown",
   "id": "3b8847bd-35ab-4ac5-978b-c48b6e9af1ab",
   "metadata": {
    "id": "3b8847bd-35ab-4ac5-978b-c48b6e9af1ab"
   },
   "source": [
    "Now that a dictionary has been defined, some additional modifications to the dataframe will be made to be able to use the dictionary to map the primary TAG number to the TAG number in the data for each record. \n",
    "\n",
    "This will be accomplished by splitting the values in **TAGNum** on the \"-\" charcter leaving us with the primary TAG number and the district TAG number. The leading zeros will then be stripped from the primary TAG number and resulting value will be ready to be mapped to the dictionary to populate a new column containing the relevent city name:"
   ]
  },
  {
   "cell_type": "code",
   "execution_count": 22,
   "id": "47ea5b56-22b2-444d-85e0-b0449affc3a8",
   "metadata": {
    "executionInfo": {
     "elapsed": 20,
     "status": "ok",
     "timestamp": 1660775160968,
     "user": {
      "displayName": "Angel Gutierrez",
      "userId": "07929619807674696750"
     },
     "user_tz": 420
    },
    "id": "47ea5b56-22b2-444d-85e0-b0449affc3a8"
   },
   "outputs": [],
   "source": [
    "# Split TAGNum into city and district componenets\n",
    "df_tag[['TAGCity','TAGDist']] = df_tag['TAGNum'].str.split('-', expand=True)\n",
    "df_tag['TAGCity'] = pd.to_numeric(df_tag['TAGCity']) # Change valuetype to numeric to get rid of leading zeros\n",
    "df_tag['TAGCity'] = df_tag['TAGCity'].astype(\"string\") # Change back to string"
   ]
  },
  {
   "cell_type": "markdown",
   "id": "1b181cf6-08db-4cbd-8438-e3ec974ced0d",
   "metadata": {
    "id": "1b181cf6-08db-4cbd-8438-e3ec974ced0d"
   },
   "source": [
    "Mapping the **TAGCity** column to the **tag_dict** dictionary should give us the dataframe with a new column **CityName** populated with the City of corrresponding TAG Number:"
   ]
  },
  {
   "cell_type": "code",
   "execution_count": 23,
   "id": "e4d2f0a2-0dcf-4506-91aa-2deef024c653",
   "metadata": {
    "colab": {
     "base_uri": "https://localhost:8080/",
     "height": 927
    },
    "executionInfo": {
     "elapsed": 20,
     "status": "ok",
     "timestamp": 1660775160970,
     "user": {
      "displayName": "Angel Gutierrez",
      "userId": "07929619807674696750"
     },
     "user_tz": 420
    },
    "id": "sI2EG-_IePQ5",
    "outputId": "49601c14-fd3a-4441-8e30-2868bf680fe9"
   },
   "outputs": [
    {
     "data": {
      "text/html": [
       "<div>\n",
       "<style scoped>\n",
       "    .dataframe tbody tr th:only-of-type {\n",
       "        vertical-align: middle;\n",
       "    }\n",
       "\n",
       "    .dataframe tbody tr th {\n",
       "        vertical-align: top;\n",
       "    }\n",
       "\n",
       "    .dataframe thead th {\n",
       "        text-align: right;\n",
       "    }\n",
       "</style>\n",
       "<table border=\"1\" class=\"dataframe\">\n",
       "  <thead>\n",
       "    <tr style=\"text-align: right;\">\n",
       "      <th></th>\n",
       "      <th>CityName</th>\n",
       "      <th>2019-2020</th>\n",
       "      <th>2020-2021</th>\n",
       "      <th>2022-2023</th>\n",
       "      <th>3YrPctChange</th>\n",
       "    </tr>\n",
       "  </thead>\n",
       "  <tbody>\n",
       "    <tr>\n",
       "      <th>6</th>\n",
       "      <td>Calimesa</td>\n",
       "      <td>972843837.00</td>\n",
       "      <td>1119904505.00</td>\n",
       "      <td>1440937260.00</td>\n",
       "      <td>48.12</td>\n",
       "    </tr>\n",
       "    <tr>\n",
       "      <th>38</th>\n",
       "      <td>Perris</td>\n",
       "      <td>6861129044.00</td>\n",
       "      <td>7566897344.00</td>\n",
       "      <td>9590358429.00</td>\n",
       "      <td>39.78</td>\n",
       "    </tr>\n",
       "    <tr>\n",
       "      <th>3</th>\n",
       "      <td>Beaumont</td>\n",
       "      <td>5280237842.00</td>\n",
       "      <td>6021573517.00</td>\n",
       "      <td>7330818508.00</td>\n",
       "      <td>38.84</td>\n",
       "    </tr>\n",
       "    <tr>\n",
       "      <th>27</th>\n",
       "      <td>Menifee Valley</td>\n",
       "      <td>10382737583.00</td>\n",
       "      <td>11270984052.00</td>\n",
       "      <td>14037324073.00</td>\n",
       "      <td>35.20</td>\n",
       "    </tr>\n",
       "    <tr>\n",
       "      <th>15</th>\n",
       "      <td>Desert Hot Springs</td>\n",
       "      <td>1906767617.00</td>\n",
       "      <td>2078910359.00</td>\n",
       "      <td>2564389856.00</td>\n",
       "      <td>34.49</td>\n",
       "    </tr>\n",
       "    <tr>\n",
       "      <th>1</th>\n",
       "      <td>Banning</td>\n",
       "      <td>2342793976.00</td>\n",
       "      <td>2440872402.00</td>\n",
       "      <td>2995209678.00</td>\n",
       "      <td>27.85</td>\n",
       "    </tr>\n",
       "    <tr>\n",
       "      <th>44</th>\n",
       "      <td>San Jacinto</td>\n",
       "      <td>3270139359.00</td>\n",
       "      <td>3475597759.00</td>\n",
       "      <td>4092157570.00</td>\n",
       "      <td>25.14</td>\n",
       "    </tr>\n",
       "    <tr>\n",
       "      <th>35</th>\n",
       "      <td>Palm Springs</td>\n",
       "      <td>13760154597.00</td>\n",
       "      <td>14466372015.00</td>\n",
       "      <td>17140798723.00</td>\n",
       "      <td>24.57</td>\n",
       "    </tr>\n",
       "    <tr>\n",
       "      <th>8</th>\n",
       "      <td>Cathedral</td>\n",
       "      <td>4785074515.00</td>\n",
       "      <td>5062361987.00</td>\n",
       "      <td>5907291033.00</td>\n",
       "      <td>23.45</td>\n",
       "    </tr>\n",
       "    <tr>\n",
       "      <th>32</th>\n",
       "      <td>Norco</td>\n",
       "      <td>3524936985.00</td>\n",
       "      <td>3703561281.00</td>\n",
       "      <td>4311823989.00</td>\n",
       "      <td>22.32</td>\n",
       "    </tr>\n",
       "    <tr>\n",
       "      <th>9</th>\n",
       "      <td>Coachella</td>\n",
       "      <td>1990874801.00</td>\n",
       "      <td>2110086081.00</td>\n",
       "      <td>2431340330.00</td>\n",
       "      <td>22.12</td>\n",
       "    </tr>\n",
       "    <tr>\n",
       "      <th>24</th>\n",
       "      <td>Lake Elsinore</td>\n",
       "      <td>6598851605.00</td>\n",
       "      <td>6968081249.00</td>\n",
       "      <td>8058526273.00</td>\n",
       "      <td>22.12</td>\n",
       "    </tr>\n",
       "    <tr>\n",
       "      <th>28</th>\n",
       "      <td>Moreno Valley</td>\n",
       "      <td>17135121187.00</td>\n",
       "      <td>18340853391.00</td>\n",
       "      <td>20881886716.00</td>\n",
       "      <td>21.87</td>\n",
       "    </tr>\n",
       "    <tr>\n",
       "      <th>18</th>\n",
       "      <td>Hemet</td>\n",
       "      <td>6178769021.00</td>\n",
       "      <td>6460697975.00</td>\n",
       "      <td>7450429228.00</td>\n",
       "      <td>20.58</td>\n",
       "    </tr>\n",
       "    <tr>\n",
       "      <th>41</th>\n",
       "      <td>Riverside</td>\n",
       "      <td>31782031222.00</td>\n",
       "      <td>33565420312.00</td>\n",
       "      <td>38260944387.00</td>\n",
       "      <td>20.39</td>\n",
       "    </tr>\n",
       "    <tr>\n",
       "      <th>22</th>\n",
       "      <td>Jurupa Valley</td>\n",
       "      <td>10557919754.00</td>\n",
       "      <td>11435698607.00</td>\n",
       "      <td>12702488857.00</td>\n",
       "      <td>20.31</td>\n",
       "    </tr>\n",
       "    <tr>\n",
       "      <th>21</th>\n",
       "      <td>Indio</td>\n",
       "      <td>8820683069.00</td>\n",
       "      <td>9255535809.00</td>\n",
       "      <td>10599007834.00</td>\n",
       "      <td>20.16</td>\n",
       "    </tr>\n",
       "    <tr>\n",
       "      <th>12</th>\n",
       "      <td>Corona</td>\n",
       "      <td>21873382037.00</td>\n",
       "      <td>23081740026.00</td>\n",
       "      <td>26253264534.00</td>\n",
       "      <td>20.02</td>\n",
       "    </tr>\n",
       "    <tr>\n",
       "      <th>23</th>\n",
       "      <td>La Quinta</td>\n",
       "      <td>14037317425.00</td>\n",
       "      <td>14412041752.00</td>\n",
       "      <td>16721802631.00</td>\n",
       "      <td>19.12</td>\n",
       "    </tr>\n",
       "    <tr>\n",
       "      <th>40</th>\n",
       "      <td>Rancho Mirage</td>\n",
       "      <td>8978454295.00</td>\n",
       "      <td>9306919360.00</td>\n",
       "      <td>10691748280.00</td>\n",
       "      <td>19.08</td>\n",
       "    </tr>\n",
       "    <tr>\n",
       "      <th>30</th>\n",
       "      <td>Murrieta</td>\n",
       "      <td>14027375402.00</td>\n",
       "      <td>14696361436.00</td>\n",
       "      <td>16565960685.00</td>\n",
       "      <td>18.10</td>\n",
       "    </tr>\n",
       "    <tr>\n",
       "      <th>7</th>\n",
       "      <td>Canyon Lake</td>\n",
       "      <td>1870062225.00</td>\n",
       "      <td>1943962174.00</td>\n",
       "      <td>2201707560.00</td>\n",
       "      <td>17.73</td>\n",
       "    </tr>\n",
       "    <tr>\n",
       "      <th>17</th>\n",
       "      <td>Eastvale</td>\n",
       "      <td>10396052093.00</td>\n",
       "      <td>10896221677.00</td>\n",
       "      <td>12220054286.00</td>\n",
       "      <td>17.55</td>\n",
       "    </tr>\n",
       "    <tr>\n",
       "      <th>49</th>\n",
       "      <td>Wildomar</td>\n",
       "      <td>3588085151.00</td>\n",
       "      <td>3744196741.00</td>\n",
       "      <td>4212459777.00</td>\n",
       "      <td>17.40</td>\n",
       "    </tr>\n",
       "    <tr>\n",
       "      <th>46</th>\n",
       "      <td>Temecula</td>\n",
       "      <td>16779626298.00</td>\n",
       "      <td>17486022022.00</td>\n",
       "      <td>19639567925.00</td>\n",
       "      <td>17.04</td>\n",
       "    </tr>\n",
       "    <tr>\n",
       "      <th>20</th>\n",
       "      <td>Indian Wells</td>\n",
       "      <td>6147326090.00</td>\n",
       "      <td>6360984421.00</td>\n",
       "      <td>7086257275.00</td>\n",
       "      <td>15.27</td>\n",
       "    </tr>\n",
       "    <tr>\n",
       "      <th>34</th>\n",
       "      <td>Palm Desert</td>\n",
       "      <td>15668444268.00</td>\n",
       "      <td>16217619993.00</td>\n",
       "      <td>17895334799.00</td>\n",
       "      <td>14.21</td>\n",
       "    </tr>\n",
       "    <tr>\n",
       "      <th>5</th>\n",
       "      <td>Blythe</td>\n",
       "      <td>998057029.00</td>\n",
       "      <td>785615080.00</td>\n",
       "      <td>868299111.00</td>\n",
       "      <td>-13.00</td>\n",
       "    </tr>\n",
       "  </tbody>\n",
       "</table>\n",
       "</div>"
      ],
      "text/plain": [
       "              CityName      2019-2020      2020-2021      2022-2023  \\\n",
       "6             Calimesa   972843837.00  1119904505.00  1440937260.00   \n",
       "38              Perris  6861129044.00  7566897344.00  9590358429.00   \n",
       "3             Beaumont  5280237842.00  6021573517.00  7330818508.00   \n",
       "27      Menifee Valley 10382737583.00 11270984052.00 14037324073.00   \n",
       "15  Desert Hot Springs  1906767617.00  2078910359.00  2564389856.00   \n",
       "1              Banning  2342793976.00  2440872402.00  2995209678.00   \n",
       "44         San Jacinto  3270139359.00  3475597759.00  4092157570.00   \n",
       "35        Palm Springs 13760154597.00 14466372015.00 17140798723.00   \n",
       "8            Cathedral  4785074515.00  5062361987.00  5907291033.00   \n",
       "32               Norco  3524936985.00  3703561281.00  4311823989.00   \n",
       "9            Coachella  1990874801.00  2110086081.00  2431340330.00   \n",
       "24       Lake Elsinore  6598851605.00  6968081249.00  8058526273.00   \n",
       "28       Moreno Valley 17135121187.00 18340853391.00 20881886716.00   \n",
       "18               Hemet  6178769021.00  6460697975.00  7450429228.00   \n",
       "41           Riverside 31782031222.00 33565420312.00 38260944387.00   \n",
       "22       Jurupa Valley 10557919754.00 11435698607.00 12702488857.00   \n",
       "21               Indio  8820683069.00  9255535809.00 10599007834.00   \n",
       "12              Corona 21873382037.00 23081740026.00 26253264534.00   \n",
       "23           La Quinta 14037317425.00 14412041752.00 16721802631.00   \n",
       "40       Rancho Mirage  8978454295.00  9306919360.00 10691748280.00   \n",
       "30            Murrieta 14027375402.00 14696361436.00 16565960685.00   \n",
       "7          Canyon Lake  1870062225.00  1943962174.00  2201707560.00   \n",
       "17            Eastvale 10396052093.00 10896221677.00 12220054286.00   \n",
       "49            Wildomar  3588085151.00  3744196741.00  4212459777.00   \n",
       "46            Temecula 16779626298.00 17486022022.00 19639567925.00   \n",
       "20        Indian Wells  6147326090.00  6360984421.00  7086257275.00   \n",
       "34         Palm Desert 15668444268.00 16217619993.00 17895334799.00   \n",
       "5               Blythe   998057029.00   785615080.00   868299111.00   \n",
       "\n",
       "    3YrPctChange  \n",
       "6          48.12  \n",
       "38         39.78  \n",
       "3          38.84  \n",
       "27         35.20  \n",
       "15         34.49  \n",
       "1          27.85  \n",
       "44         25.14  \n",
       "35         24.57  \n",
       "8          23.45  \n",
       "32         22.32  \n",
       "9          22.12  \n",
       "24         22.12  \n",
       "28         21.87  \n",
       "18         20.58  \n",
       "41         20.39  \n",
       "22         20.31  \n",
       "21         20.16  \n",
       "12         20.02  \n",
       "23         19.12  \n",
       "40         19.08  \n",
       "30         18.10  \n",
       "7          17.73  \n",
       "17         17.55  \n",
       "49         17.40  \n",
       "46         17.04  \n",
       "20         15.27  \n",
       "34         14.21  \n",
       "5         -13.00  "
      ]
     },
     "execution_count": 23,
     "metadata": {},
     "output_type": "execute_result"
    }
   ],
   "source": [
    "# Use dict to add new column with City or School District Name\n",
    "df_tag['CityName'] = df_tag['TAGCity'].map(TAG_dict)\n",
    "\n",
    "# Group by newly created city column\n",
    "df_area = df_tag.groupby(['CityName']).sum().reset_index()\n",
    "# Add new column showing % change from 2019 thru 2022 fiscal years\n",
    "df_area['3YrPctChange'] = ((df_area['2022-2023']-df_area['2019-2020'])/df_area['2019-2020'])*100\n",
    "\n",
    "# School districts sorted by growth\n",
    "df_usd = df_area[df_area['CityName'].str.contains('USD')] # Filter school districts (contain USD in name)\n",
    "df_usd.sort_values(by=['3YrPctChange'], ascending=False) # Display sorted results\n",
    "\n",
    "# Cities sorted by growth\n",
    "df_cities = df_area[~df_area['CityName'].str.contains('USD')] # Filter cities (do NOT contain USD in name)\n",
    "df_cities.sort_values(by=['3YrPctChange'], ascending=False) # Display sorted results"
   ]
  },
  {
   "cell_type": "markdown",
   "id": "xTZwaLJk7AQz",
   "metadata": {
    "id": "xTZwaLJk7AQz"
   },
   "source": [
    "### 2022-2023 Assessed Valuations by City and School District"
   ]
  },
  {
   "cell_type": "markdown",
   "id": "lvqICszU7ZTv",
   "metadata": {
    "id": "lvqICszU7ZTv"
   },
   "source": [
    "#### City & District Total Tax Roll Valuations"
   ]
  },
  {
   "cell_type": "code",
   "execution_count": 24,
   "id": "z6Pthe6dAHMU",
   "metadata": {
    "colab": {
     "base_uri": "https://localhost:8080/",
     "height": 1000
    },
    "executionInfo": {
     "elapsed": 2760,
     "status": "ok",
     "timestamp": 1660777816164,
     "user": {
      "displayName": "Angel Gutierrez",
      "userId": "07929619807674696750"
     },
     "user_tz": 420
    },
    "id": "z6Pthe6dAHMU",
    "outputId": "3d9c12b5-bff7-4528-b90a-a45b4a2572c3"
   },
   "outputs": [
    {
     "name": "stdout",
     "output_type": "stream",
     "text": [
      "\n"
     ]
    },
    {
     "name": "stderr",
     "output_type": "stream",
     "text": [
      "/tmp/ipykernel_2671/1725567991.py:10: SettingWithCopyWarning: \n",
      "A value is trying to be set on a copy of a slice from a DataFrame.\n",
      "Try using .loc[row_indexer,col_indexer] = value instead\n",
      "\n",
      "See the caveats in the documentation: https://pandas.pydata.org/pandas-docs/stable/user_guide/indexing.html#returning-a-view-versus-a-copy\n",
      "  df['ChartLabel'] = df['CityName'] + ' $' + (df['2022-2023']/1000000000).round(1).astype(str) + 'bn'\n"
     ]
    },
    {
     "data": {
      "image/png": "[encoded data removed]",
      "text/plain": [
       "<Figure size 1440x864 with 1 Axes>"
      ]
     },
     "metadata": {},
     "output_type": "display_data"
    },
    {
     "name": "stdout",
     "output_type": "stream",
     "text": [
      "\n"
     ]
    },
    {
     "data": {
      "image/png": "[encoded data removed]",
      "text/plain": [
       "<Figure size 1440x864 with 1 Axes>"
      ]
     },
     "metadata": {},
     "output_type": "display_data"
    }
   ],
   "source": [
    "# List of lists of identifying info to create treemap chart\n",
    "j = [\n",
    "    [df_cities, matplotlib.cm.Reds, 'Cities'],\n",
    "    [df_usd, matplotlib.cm.Blues, 'School Districts']\n",
    "    ]\n",
    "\n",
    "for i in j: # Iterate through list\n",
    "    df = i[0] # Assign dataframe (1st elem in (list)\n",
    "    # Create a column to use as label in chart\n",
    "    df['ChartLabel'] = df['CityName'] + ' $' + (df['2022-2023']/1000000000).round(1).astype(str) + 'bn'\n",
    "    \n",
    "    # Prepare and plot Treemap - Source: https://www.python-graph-gallery.com/202-treemap-with-colors-mapped-on-values\n",
    "    my_values=[i for i in range(1,df.shape[0]+1)] # Create a color palette\n",
    "    cmap = i[1] # Assign color profile (2nd item in list)\n",
    "    norm = matplotlib.colors.Normalize(vmin=min(my_values), vmax=max(my_values))\n",
    "    colors = [cmap(norm(value)) for value in my_values]\n",
    "    fig, ax = plt.subplots(1, figsize = (20,12))\n",
    "    squarify.plot(sizes=df['2022-2023'], \n",
    "                  label=df['ChartLabel'], \n",
    "                  alpha=.7,\n",
    "                  color=colors,\n",
    "                  pad = False,\n",
    "                  text_kwargs={'fontsize':9})\n",
    "\n",
    "    plt.axis('off')\n",
    "    plt.title(f'2022-2023 Riverside County Assessed Roll Valuations for {i[2]} (Net Taxable)')\n",
    "    print()\n",
    "    plt.show() # Display"
   ]
  },
  {
   "cell_type": "markdown",
   "id": "f0db8d90-336a-4bb5-af40-d3e63616ad06",
   "metadata": {},
   "source": [
    "Riverside, Corona, and Temecula are our most valuable cities in terms of total roll valuation."
   ]
  },
  {
   "cell_type": "markdown",
   "id": "sEnxYcIyGdi5",
   "metadata": {
    "id": "sEnxYcIyGdi5"
   },
   "source": [
    "## Conclusion"
   ]
  },
  {
   "cell_type": "markdown",
   "id": "fb17151e-e3b6-42fe-a24a-bb8ab4643213",
   "metadata": {},
   "source": [
    "- Total tax roll currently sit at 361 billion, an increase of 16% from prior year.\n",
    "- Structures and fixtures have grown the most in the past 3 years, this is likely due to new construction.\n",
    "- Property types structures and land make up the majority of the tax roll (having increased 31% and 25% respectively).\n",
    "- Cities of Riverside, Temecula, and Corona have the hightest roll values."
   ]
  }
 ],
 "metadata": {
  "colab": {
   "collapsed_sections": [],
   "name": "data_wrangling.ipynb",
   "provenance": [],
   "toc_visible": true
  },
  "kernelspec": {
   "display_name": "Python 3 (ipykernel)",
   "language": "python",
   "name": "python3"
  },
  "language_info": {
   "codemirror_mode": {
    "name": "ipython",
    "version": 3
   },
   "file_extension": ".py",
   "mimetype": "text/x-python",
   "name": "python",
   "nbconvert_exporter": "python",
   "pygments_lexer": "ipython3",
   "version": "3.9.7"
  }
 },
 "nbformat": 4,
 "nbformat_minor": 5
}
